{
 "cells": [
  {
   "cell_type": "markdown",
   "metadata": {
    "scrolled": false
   },
   "source": [
    " \n",
    "# Video Games Sales Data Analysis"
   ]
  },
  {
   "cell_type": "markdown",
   "metadata": {},
   "source": [
    "# Introduction\n",
    "I work for the online store Ice, which sells video games all over the world. User and expert reviews, genres, platforms (e.g. Xbox or PlayStation), and historical data on game sales are available from open sources. I need to identify patterns that determine whether a game succeeds or not. This will allow me to spot potential big winners and plan advertising campaigns; imagining that it’s December 2016 and I'm planning a campaign for 2017."
   ]
  },
  {
   "cell_type": "markdown",
   "metadata": {
    "toc": true
   },
   "source": [
    "<h1>Table of Contents<span class=\"tocSkip\"></span></h1>\n",
    "<div class=\"toc\"><ul class=\"toc-item\"><li><span><a href=\"#Step-1.-Open-the-data-file-and-study-the-general-information\" data-toc-modified-id=\"Step-1.-Open-the-data-file-and-study-the-general-information-1\">Step 1. Open the data file and study the general information</a></span><ul class=\"toc-item\"><li><span><a href=\"#Interim-conclusion\" data-toc-modified-id=\"Interim-conclusion-1.1\">Interim conclusion</a></span></li></ul></li><li><span><a href=\"#Step-2.-Preparing-the-data\" data-toc-modified-id=\"Step-2.-Preparing-the-data-2\">Step 2. Preparing the data</a></span><ul class=\"toc-item\"><li><span><a href=\"#Dealing-with-missing-values-and-converting-data-to-required-types\" data-toc-modified-id=\"Dealing-with-missing-values-and-converting-data-to-required-types-2.1\">Dealing with missing values and converting data to required types</a></span></li><li><span><a href=\"#Interim-conclusion\" data-toc-modified-id=\"Interim-conclusion-2.2\">Interim conclusion</a></span></li></ul></li><li><span><a href=\"#Step-3.-Analyze-the-data\" data-toc-modified-id=\"Step-3.-Analyze-the-data-3\">Step 3. Analyze the data</a></span></li><li><span><a href=\"#Step-4.-Create-a-user-profile-for-each-region\" data-toc-modified-id=\"Step-4.-Create-a-user-profile-for-each-region-4\">Step 4. Create a user profile for each region</a></span></li><li><span><a href=\"#Step-5.-Testing-hypotheses\" data-toc-modified-id=\"Step-5.-Testing-hypotheses-5\">Step 5. Testing hypotheses</a></span><ul class=\"toc-item\"><li><span><a href=\"#Hypothesis-test-1\" data-toc-modified-id=\"Hypothesis-test-1-5.1\">Hypothesis test 1</a></span></li><li><span><a href=\"#Hypothesis-test-2\" data-toc-modified-id=\"Hypothesis-test-2-5.2\">Hypothesis test 2</a></span></li></ul></li><li><span><a href=\"#Step-6.-General-conclusion\" data-toc-modified-id=\"Step-6.-General-conclusion-6\">Step 6. General conclusion</a></span></li></ul></div>"
   ]
  },
  {
   "cell_type": "markdown",
   "metadata": {},
   "source": [
    "## Step 1. Open the data file and study the general information"
   ]
  },
  {
   "cell_type": "markdown",
   "metadata": {},
   "source": [
    "Importing libraries and data"
   ]
  },
  {
   "cell_type": "code",
   "execution_count": 1,
   "metadata": {
    "scrolled": false
   },
   "outputs": [],
   "source": [
    "import pandas as pd\n",
    "import numpy as np\n",
    "import matplotlib.pyplot as plt\n",
    "import seaborn as sns\n",
    "from IPython.display import display\n",
    "from scipy import stats as st\n",
    "import missingno as msno\n",
    "%matplotlib inline\n",
    "pd.set_option('mode.chained_assignment', None) # To control for SettingWithCopyWarning\n",
    "\n",
    "\n",
    "data = pd.read_csv(\"games.csv\")\n",
    "\n",
    "from io import BytesIO\n",
    "import requests\n",
    "spreadsheet_id = '1X07QmTmiVfOeGT2Cr_Gom9NdsYsAcpJOxhLd6sa9Nb4' #External data\n",
    "file_name = 'https://docs.google.com/spreadsheets/d/{}/export?format=csv'.format(spreadsheet_id)\n",
    "r = requests.get(file_name)\n",
    "ex_data = pd.read_csv(BytesIO(r.content))"
   ]
  },
  {
   "cell_type": "markdown",
   "metadata": {},
   "source": [
    "Previewing general information and description of data"
   ]
  },
  {
   "cell_type": "code",
   "execution_count": 2,
   "metadata": {
    "scrolled": false
   },
   "outputs": [
    {
     "data": {
      "text/html": [
       "<div>\n",
       "<style scoped>\n",
       "    .dataframe tbody tr th:only-of-type {\n",
       "        vertical-align: middle;\n",
       "    }\n",
       "\n",
       "    .dataframe tbody tr th {\n",
       "        vertical-align: top;\n",
       "    }\n",
       "\n",
       "    .dataframe thead th {\n",
       "        text-align: right;\n",
       "    }\n",
       "</style>\n",
       "<table border=\"1\" class=\"dataframe\">\n",
       "  <thead>\n",
       "    <tr style=\"text-align: right;\">\n",
       "      <th></th>\n",
       "      <th>Name</th>\n",
       "      <th>Platform</th>\n",
       "      <th>Year_of_Release</th>\n",
       "      <th>Genre</th>\n",
       "      <th>NA_sales</th>\n",
       "      <th>EU_sales</th>\n",
       "      <th>JP_sales</th>\n",
       "      <th>Other_sales</th>\n",
       "      <th>Critic_Score</th>\n",
       "      <th>User_Score</th>\n",
       "      <th>Rating</th>\n",
       "    </tr>\n",
       "  </thead>\n",
       "  <tbody>\n",
       "    <tr>\n",
       "      <th>0</th>\n",
       "      <td>Wii Sports</td>\n",
       "      <td>Wii</td>\n",
       "      <td>2006.0</td>\n",
       "      <td>Sports</td>\n",
       "      <td>41.36</td>\n",
       "      <td>28.96</td>\n",
       "      <td>3.77</td>\n",
       "      <td>8.45</td>\n",
       "      <td>76.0</td>\n",
       "      <td>8</td>\n",
       "      <td>E</td>\n",
       "    </tr>\n",
       "    <tr>\n",
       "      <th>1</th>\n",
       "      <td>Super Mario Bros.</td>\n",
       "      <td>NES</td>\n",
       "      <td>1985.0</td>\n",
       "      <td>Platform</td>\n",
       "      <td>29.08</td>\n",
       "      <td>3.58</td>\n",
       "      <td>6.81</td>\n",
       "      <td>0.77</td>\n",
       "      <td>NaN</td>\n",
       "      <td>NaN</td>\n",
       "      <td>NaN</td>\n",
       "    </tr>\n",
       "    <tr>\n",
       "      <th>2</th>\n",
       "      <td>Mario Kart Wii</td>\n",
       "      <td>Wii</td>\n",
       "      <td>2008.0</td>\n",
       "      <td>Racing</td>\n",
       "      <td>15.68</td>\n",
       "      <td>12.76</td>\n",
       "      <td>3.79</td>\n",
       "      <td>3.29</td>\n",
       "      <td>82.0</td>\n",
       "      <td>8.3</td>\n",
       "      <td>E</td>\n",
       "    </tr>\n",
       "    <tr>\n",
       "      <th>3</th>\n",
       "      <td>Wii Sports Resort</td>\n",
       "      <td>Wii</td>\n",
       "      <td>2009.0</td>\n",
       "      <td>Sports</td>\n",
       "      <td>15.61</td>\n",
       "      <td>10.93</td>\n",
       "      <td>3.28</td>\n",
       "      <td>2.95</td>\n",
       "      <td>80.0</td>\n",
       "      <td>8</td>\n",
       "      <td>E</td>\n",
       "    </tr>\n",
       "    <tr>\n",
       "      <th>4</th>\n",
       "      <td>Pokemon Red/Pokemon Blue</td>\n",
       "      <td>GB</td>\n",
       "      <td>1996.0</td>\n",
       "      <td>Role-Playing</td>\n",
       "      <td>11.27</td>\n",
       "      <td>8.89</td>\n",
       "      <td>10.22</td>\n",
       "      <td>1.00</td>\n",
       "      <td>NaN</td>\n",
       "      <td>NaN</td>\n",
       "      <td>NaN</td>\n",
       "    </tr>\n",
       "  </tbody>\n",
       "</table>\n",
       "</div>"
      ],
      "text/plain": [
       "                       Name Platform  Year_of_Release         Genre  NA_sales  \\\n",
       "0                Wii Sports      Wii           2006.0        Sports     41.36   \n",
       "1         Super Mario Bros.      NES           1985.0      Platform     29.08   \n",
       "2            Mario Kart Wii      Wii           2008.0        Racing     15.68   \n",
       "3         Wii Sports Resort      Wii           2009.0        Sports     15.61   \n",
       "4  Pokemon Red/Pokemon Blue       GB           1996.0  Role-Playing     11.27   \n",
       "\n",
       "   EU_sales  JP_sales  Other_sales  Critic_Score User_Score Rating  \n",
       "0     28.96      3.77         8.45          76.0          8      E  \n",
       "1      3.58      6.81         0.77           NaN        NaN    NaN  \n",
       "2     12.76      3.79         3.29          82.0        8.3      E  \n",
       "3     10.93      3.28         2.95          80.0          8      E  \n",
       "4      8.89     10.22         1.00           NaN        NaN    NaN  "
      ]
     },
     "execution_count": 2,
     "metadata": {},
     "output_type": "execute_result"
    }
   ],
   "source": [
    "data.head()"
   ]
  },
  {
   "cell_type": "code",
   "execution_count": 3,
   "metadata": {},
   "outputs": [
    {
     "data": {
      "text/html": [
       "<div>\n",
       "<style scoped>\n",
       "    .dataframe tbody tr th:only-of-type {\n",
       "        vertical-align: middle;\n",
       "    }\n",
       "\n",
       "    .dataframe tbody tr th {\n",
       "        vertical-align: top;\n",
       "    }\n",
       "\n",
       "    .dataframe thead th {\n",
       "        text-align: right;\n",
       "    }\n",
       "</style>\n",
       "<table border=\"1\" class=\"dataframe\">\n",
       "  <thead>\n",
       "    <tr style=\"text-align: right;\">\n",
       "      <th></th>\n",
       "      <th>Name</th>\n",
       "      <th>Platform</th>\n",
       "      <th>Year_of_Release</th>\n",
       "      <th>Genre</th>\n",
       "      <th>NA_sales</th>\n",
       "      <th>EU_sales</th>\n",
       "      <th>JP_sales</th>\n",
       "      <th>Other_sales</th>\n",
       "      <th>Critic_Score</th>\n",
       "      <th>User_Score</th>\n",
       "      <th>Rating</th>\n",
       "    </tr>\n",
       "  </thead>\n",
       "  <tbody>\n",
       "    <tr>\n",
       "      <th>14667</th>\n",
       "      <td>Drome Racers</td>\n",
       "      <td>GC</td>\n",
       "      <td>2003.0</td>\n",
       "      <td>Racing</td>\n",
       "      <td>0.02</td>\n",
       "      <td>0.01</td>\n",
       "      <td>0.00</td>\n",
       "      <td>0.00</td>\n",
       "      <td>54.0</td>\n",
       "      <td>6.6</td>\n",
       "      <td>E</td>\n",
       "    </tr>\n",
       "    <tr>\n",
       "      <th>13934</th>\n",
       "      <td>Holly Hobbie &amp; Friends</td>\n",
       "      <td>DS</td>\n",
       "      <td>2007.0</td>\n",
       "      <td>Misc</td>\n",
       "      <td>0.04</td>\n",
       "      <td>0.00</td>\n",
       "      <td>0.00</td>\n",
       "      <td>0.00</td>\n",
       "      <td>NaN</td>\n",
       "      <td>NaN</td>\n",
       "      <td>NaN</td>\n",
       "    </tr>\n",
       "    <tr>\n",
       "      <th>2513</th>\n",
       "      <td>I Spy: Fun House</td>\n",
       "      <td>DS</td>\n",
       "      <td>2007.0</td>\n",
       "      <td>Puzzle</td>\n",
       "      <td>0.76</td>\n",
       "      <td>0.00</td>\n",
       "      <td>0.00</td>\n",
       "      <td>0.06</td>\n",
       "      <td>53.0</td>\n",
       "      <td>tbd</td>\n",
       "      <td>E</td>\n",
       "    </tr>\n",
       "    <tr>\n",
       "      <th>3264</th>\n",
       "      <td>Tiger Woods PGA Tour 12: The Masters</td>\n",
       "      <td>X360</td>\n",
       "      <td>2011.0</td>\n",
       "      <td>Sports</td>\n",
       "      <td>0.40</td>\n",
       "      <td>0.16</td>\n",
       "      <td>0.00</td>\n",
       "      <td>0.05</td>\n",
       "      <td>80.0</td>\n",
       "      <td>6.1</td>\n",
       "      <td>E</td>\n",
       "    </tr>\n",
       "    <tr>\n",
       "      <th>13634</th>\n",
       "      <td>Naruto Shippuuden: Shinobi Retsuden III</td>\n",
       "      <td>DS</td>\n",
       "      <td>2009.0</td>\n",
       "      <td>Action</td>\n",
       "      <td>0.00</td>\n",
       "      <td>0.00</td>\n",
       "      <td>0.04</td>\n",
       "      <td>0.00</td>\n",
       "      <td>NaN</td>\n",
       "      <td>NaN</td>\n",
       "      <td>NaN</td>\n",
       "    </tr>\n",
       "  </tbody>\n",
       "</table>\n",
       "</div>"
      ],
      "text/plain": [
       "                                          Name Platform  Year_of_Release  \\\n",
       "14667                             Drome Racers       GC           2003.0   \n",
       "13934                   Holly Hobbie & Friends       DS           2007.0   \n",
       "2513                          I Spy: Fun House       DS           2007.0   \n",
       "3264      Tiger Woods PGA Tour 12: The Masters     X360           2011.0   \n",
       "13634  Naruto Shippuuden: Shinobi Retsuden III       DS           2009.0   \n",
       "\n",
       "        Genre  NA_sales  EU_sales  JP_sales  Other_sales  Critic_Score  \\\n",
       "14667  Racing      0.02      0.01      0.00         0.00          54.0   \n",
       "13934    Misc      0.04      0.00      0.00         0.00           NaN   \n",
       "2513   Puzzle      0.76      0.00      0.00         0.06          53.0   \n",
       "3264   Sports      0.40      0.16      0.00         0.05          80.0   \n",
       "13634  Action      0.00      0.00      0.04         0.00           NaN   \n",
       "\n",
       "      User_Score Rating  \n",
       "14667        6.6      E  \n",
       "13934        NaN    NaN  \n",
       "2513         tbd      E  \n",
       "3264         6.1      E  \n",
       "13634        NaN    NaN  "
      ]
     },
     "execution_count": 3,
     "metadata": {},
     "output_type": "execute_result"
    }
   ],
   "source": [
    "data.sample(5)"
   ]
  },
  {
   "cell_type": "code",
   "execution_count": 4,
   "metadata": {
    "scrolled": false
   },
   "outputs": [
    {
     "name": "stdout",
     "output_type": "stream",
     "text": [
      "<class 'pandas.core.frame.DataFrame'>\n",
      "RangeIndex: 16715 entries, 0 to 16714\n",
      "Data columns (total 11 columns):\n",
      " #   Column           Non-Null Count  Dtype  \n",
      "---  ------           --------------  -----  \n",
      " 0   Name             16713 non-null  object \n",
      " 1   Platform         16715 non-null  object \n",
      " 2   Year_of_Release  16446 non-null  float64\n",
      " 3   Genre            16713 non-null  object \n",
      " 4   NA_sales         16715 non-null  float64\n",
      " 5   EU_sales         16715 non-null  float64\n",
      " 6   JP_sales         16715 non-null  float64\n",
      " 7   Other_sales      16715 non-null  float64\n",
      " 8   Critic_Score     8137 non-null   float64\n",
      " 9   User_Score       10014 non-null  object \n",
      " 10  Rating           9949 non-null   object \n",
      "dtypes: float64(6), object(5)\n",
      "memory usage: 1.4+ MB\n"
     ]
    }
   ],
   "source": [
    "data.info()"
   ]
  },
  {
   "cell_type": "code",
   "execution_count": 5,
   "metadata": {
    "scrolled": false
   },
   "outputs": [
    {
     "data": {
      "text/html": [
       "<div>\n",
       "<style scoped>\n",
       "    .dataframe tbody tr th:only-of-type {\n",
       "        vertical-align: middle;\n",
       "    }\n",
       "\n",
       "    .dataframe tbody tr th {\n",
       "        vertical-align: top;\n",
       "    }\n",
       "\n",
       "    .dataframe thead th {\n",
       "        text-align: right;\n",
       "    }\n",
       "</style>\n",
       "<table border=\"1\" class=\"dataframe\">\n",
       "  <thead>\n",
       "    <tr style=\"text-align: right;\">\n",
       "      <th></th>\n",
       "      <th>Year_of_Release</th>\n",
       "      <th>NA_sales</th>\n",
       "      <th>EU_sales</th>\n",
       "      <th>JP_sales</th>\n",
       "      <th>Other_sales</th>\n",
       "      <th>Critic_Score</th>\n",
       "    </tr>\n",
       "  </thead>\n",
       "  <tbody>\n",
       "    <tr>\n",
       "      <th>count</th>\n",
       "      <td>16446.000000</td>\n",
       "      <td>16715.000000</td>\n",
       "      <td>16715.000000</td>\n",
       "      <td>16715.000000</td>\n",
       "      <td>16715.000000</td>\n",
       "      <td>8137.000000</td>\n",
       "    </tr>\n",
       "    <tr>\n",
       "      <th>mean</th>\n",
       "      <td>2006.484616</td>\n",
       "      <td>0.263377</td>\n",
       "      <td>0.145060</td>\n",
       "      <td>0.077617</td>\n",
       "      <td>0.047342</td>\n",
       "      <td>68.967679</td>\n",
       "    </tr>\n",
       "    <tr>\n",
       "      <th>std</th>\n",
       "      <td>5.877050</td>\n",
       "      <td>0.813604</td>\n",
       "      <td>0.503339</td>\n",
       "      <td>0.308853</td>\n",
       "      <td>0.186731</td>\n",
       "      <td>13.938165</td>\n",
       "    </tr>\n",
       "    <tr>\n",
       "      <th>min</th>\n",
       "      <td>1980.000000</td>\n",
       "      <td>0.000000</td>\n",
       "      <td>0.000000</td>\n",
       "      <td>0.000000</td>\n",
       "      <td>0.000000</td>\n",
       "      <td>13.000000</td>\n",
       "    </tr>\n",
       "    <tr>\n",
       "      <th>25%</th>\n",
       "      <td>2003.000000</td>\n",
       "      <td>0.000000</td>\n",
       "      <td>0.000000</td>\n",
       "      <td>0.000000</td>\n",
       "      <td>0.000000</td>\n",
       "      <td>60.000000</td>\n",
       "    </tr>\n",
       "    <tr>\n",
       "      <th>50%</th>\n",
       "      <td>2007.000000</td>\n",
       "      <td>0.080000</td>\n",
       "      <td>0.020000</td>\n",
       "      <td>0.000000</td>\n",
       "      <td>0.010000</td>\n",
       "      <td>71.000000</td>\n",
       "    </tr>\n",
       "    <tr>\n",
       "      <th>75%</th>\n",
       "      <td>2010.000000</td>\n",
       "      <td>0.240000</td>\n",
       "      <td>0.110000</td>\n",
       "      <td>0.040000</td>\n",
       "      <td>0.030000</td>\n",
       "      <td>79.000000</td>\n",
       "    </tr>\n",
       "    <tr>\n",
       "      <th>max</th>\n",
       "      <td>2016.000000</td>\n",
       "      <td>41.360000</td>\n",
       "      <td>28.960000</td>\n",
       "      <td>10.220000</td>\n",
       "      <td>10.570000</td>\n",
       "      <td>98.000000</td>\n",
       "    </tr>\n",
       "  </tbody>\n",
       "</table>\n",
       "</div>"
      ],
      "text/plain": [
       "       Year_of_Release      NA_sales      EU_sales      JP_sales  \\\n",
       "count     16446.000000  16715.000000  16715.000000  16715.000000   \n",
       "mean       2006.484616      0.263377      0.145060      0.077617   \n",
       "std           5.877050      0.813604      0.503339      0.308853   \n",
       "min        1980.000000      0.000000      0.000000      0.000000   \n",
       "25%        2003.000000      0.000000      0.000000      0.000000   \n",
       "50%        2007.000000      0.080000      0.020000      0.000000   \n",
       "75%        2010.000000      0.240000      0.110000      0.040000   \n",
       "max        2016.000000     41.360000     28.960000     10.220000   \n",
       "\n",
       "        Other_sales  Critic_Score  \n",
       "count  16715.000000   8137.000000  \n",
       "mean       0.047342     68.967679  \n",
       "std        0.186731     13.938165  \n",
       "min        0.000000     13.000000  \n",
       "25%        0.000000     60.000000  \n",
       "50%        0.010000     71.000000  \n",
       "75%        0.030000     79.000000  \n",
       "max       10.570000     98.000000  "
      ]
     },
     "execution_count": 5,
     "metadata": {},
     "output_type": "execute_result"
    }
   ],
   "source": [
    "data.describe()"
   ]
  },
  {
   "cell_type": "code",
   "execution_count": 6,
   "metadata": {},
   "outputs": [
    {
     "data": {
      "text/html": [
       "<div>\n",
       "<style scoped>\n",
       "    .dataframe tbody tr th:only-of-type {\n",
       "        vertical-align: middle;\n",
       "    }\n",
       "\n",
       "    .dataframe tbody tr th {\n",
       "        vertical-align: top;\n",
       "    }\n",
       "\n",
       "    .dataframe thead th {\n",
       "        text-align: right;\n",
       "    }\n",
       "</style>\n",
       "<table border=\"1\" class=\"dataframe\">\n",
       "  <thead>\n",
       "    <tr style=\"text-align: right;\">\n",
       "      <th></th>\n",
       "      <th>Name</th>\n",
       "      <th>Platform</th>\n",
       "      <th>Genre</th>\n",
       "      <th>User_Score</th>\n",
       "      <th>Rating</th>\n",
       "    </tr>\n",
       "  </thead>\n",
       "  <tbody>\n",
       "    <tr>\n",
       "      <th>count</th>\n",
       "      <td>16713</td>\n",
       "      <td>16715</td>\n",
       "      <td>16713</td>\n",
       "      <td>10014</td>\n",
       "      <td>9949</td>\n",
       "    </tr>\n",
       "    <tr>\n",
       "      <th>unique</th>\n",
       "      <td>11559</td>\n",
       "      <td>31</td>\n",
       "      <td>12</td>\n",
       "      <td>96</td>\n",
       "      <td>8</td>\n",
       "    </tr>\n",
       "    <tr>\n",
       "      <th>top</th>\n",
       "      <td>Need for Speed: Most Wanted</td>\n",
       "      <td>PS2</td>\n",
       "      <td>Action</td>\n",
       "      <td>tbd</td>\n",
       "      <td>E</td>\n",
       "    </tr>\n",
       "    <tr>\n",
       "      <th>freq</th>\n",
       "      <td>12</td>\n",
       "      <td>2161</td>\n",
       "      <td>3369</td>\n",
       "      <td>2424</td>\n",
       "      <td>3990</td>\n",
       "    </tr>\n",
       "  </tbody>\n",
       "</table>\n",
       "</div>"
      ],
      "text/plain": [
       "                               Name Platform   Genre User_Score Rating\n",
       "count                         16713    16715   16713      10014   9949\n",
       "unique                        11559       31      12         96      8\n",
       "top     Need for Speed: Most Wanted      PS2  Action        tbd      E\n",
       "freq                             12     2161    3369       2424   3990"
      ]
     },
     "execution_count": 6,
     "metadata": {},
     "output_type": "execute_result"
    }
   ],
   "source": [
    "data.describe(include=object)"
   ]
  },
  {
   "cell_type": "markdown",
   "metadata": {},
   "source": [
    "### Interim conclusion\n",
    "It can be seen that the column names are not in lowercase characters. The general information shows there are missing values in `Name`,`Year_of_Release`,`Genre`,`Critic_Score`,`User_Score`, and `Rating` columns that are floating-point values `NaN`.The `Year_of_Release` column should be an integer data type not a float as it only contains whole numbers. `User_Score` should be a float data type not an object. Aside these columns, all other columns are in their required data types. The data description shows there are potential outliers in the data. \n",
    "\n",
    "`User_Score` is not appearing in the numerical data description as it is being recognised as an object. It therefore appears in the object data description. At first glance, it can be seen that the `User_Score` contains a string `tbd`. The most occuring game name is `Need for Speed: Most Wanted`. `PS2` is a dominant platform as `Action` is a dominant Genre. The ESRB rating `everyone` is the most frequent rating. "
   ]
  },
  {
   "cell_type": "markdown",
   "metadata": {},
   "source": [
    "## Step 2. Preparing the data"
   ]
  },
  {
   "cell_type": "markdown",
   "metadata": {},
   "source": [
    "### Dealing with missing values and converting data to required types"
   ]
  },
  {
   "cell_type": "markdown",
   "metadata": {},
   "source": [
    "Converting columns to lowercase charaters"
   ]
  },
  {
   "cell_type": "code",
   "execution_count": 7,
   "metadata": {
    "scrolled": false
   },
   "outputs": [
    {
     "data": {
      "text/plain": [
       "Index(['name', 'platform', 'year_of_release', 'genre', 'na_sales', 'eu_sales',\n",
       "       'jp_sales', 'other_sales', 'critic_score', 'user_score', 'rating'],\n",
       "      dtype='object')"
      ]
     },
     "execution_count": 7,
     "metadata": {},
     "output_type": "execute_result"
    }
   ],
   "source": [
    "data.columns=data.columns.str.lower()\n",
    "data.columns"
   ]
  },
  {
   "cell_type": "markdown",
   "metadata": {
    "scrolled": false
   },
   "source": [
    "Due to enormous missing values in `Critic_Score`,`User_Score`, `Rating`, and to some extent `Year_of_Release` columns,\n",
    "there is the need to investigate and deal with them appropriately. The first approach is to reply on \n",
    " use of external sources of information, I have therefore, imported (see external data in the beginning cell) an edited dataset based on reviews from Metacritic, i.e. [kaggle_dataset](https://www.kaggle.com/jummyegg/rawg-game-dataset)   "
   ]
  },
  {
   "cell_type": "markdown",
   "metadata": {},
   "source": [
    "Previewing first five rows of the external data"
   ]
  },
  {
   "cell_type": "code",
   "execution_count": 8,
   "metadata": {},
   "outputs": [
    {
     "data": {
      "text/html": [
       "<div>\n",
       "<style scoped>\n",
       "    .dataframe tbody tr th:only-of-type {\n",
       "        vertical-align: middle;\n",
       "    }\n",
       "\n",
       "    .dataframe tbody tr th {\n",
       "        vertical-align: top;\n",
       "    }\n",
       "\n",
       "    .dataframe thead th {\n",
       "        text-align: right;\n",
       "    }\n",
       "</style>\n",
       "<table border=\"1\" class=\"dataframe\">\n",
       "  <thead>\n",
       "    <tr style=\"text-align: right;\">\n",
       "      <th></th>\n",
       "      <th>name</th>\n",
       "      <th>metacritic</th>\n",
       "      <th>released</th>\n",
       "      <th>rating</th>\n",
       "      <th>esrb_rating</th>\n",
       "    </tr>\n",
       "  </thead>\n",
       "  <tbody>\n",
       "    <tr>\n",
       "      <th>0</th>\n",
       "      <td>D/Generation HD</td>\n",
       "      <td>NaN</td>\n",
       "      <td>10/23/2015</td>\n",
       "      <td>0.0</td>\n",
       "      <td>Everyone 10+</td>\n",
       "    </tr>\n",
       "    <tr>\n",
       "      <th>1</th>\n",
       "      <td>G Prime Into The Rain</td>\n",
       "      <td>NaN</td>\n",
       "      <td>1/6/2016</td>\n",
       "      <td>0.0</td>\n",
       "      <td>Everyone</td>\n",
       "    </tr>\n",
       "    <tr>\n",
       "      <th>2</th>\n",
       "      <td>Land Sliders</td>\n",
       "      <td>NaN</td>\n",
       "      <td>9/24/2015</td>\n",
       "      <td>0.0</td>\n",
       "      <td>Everyone 10+</td>\n",
       "    </tr>\n",
       "    <tr>\n",
       "      <th>3</th>\n",
       "      <td>Pixel Gear</td>\n",
       "      <td>NaN</td>\n",
       "      <td>10/20/2016</td>\n",
       "      <td>0.0</td>\n",
       "      <td>Teen</td>\n",
       "    </tr>\n",
       "    <tr>\n",
       "      <th>4</th>\n",
       "      <td>Gods and Idols</td>\n",
       "      <td>NaN</td>\n",
       "      <td>12/12/2016</td>\n",
       "      <td>0.0</td>\n",
       "      <td>NaN</td>\n",
       "    </tr>\n",
       "  </tbody>\n",
       "</table>\n",
       "</div>"
      ],
      "text/plain": [
       "                    name  metacritic    released  rating   esrb_rating\n",
       "0        D/Generation HD         NaN  10/23/2015     0.0  Everyone 10+\n",
       "1  G Prime Into The Rain         NaN    1/6/2016     0.0      Everyone\n",
       "2           Land Sliders         NaN   9/24/2015     0.0  Everyone 10+\n",
       "3             Pixel Gear         NaN  10/20/2016     0.0          Teen\n",
       "4         Gods and Idols         NaN  12/12/2016     0.0           NaN"
      ]
     },
     "execution_count": 8,
     "metadata": {},
     "output_type": "execute_result"
    }
   ],
   "source": [
    "ex_data.head()"
   ]
  },
  {
   "cell_type": "markdown",
   "metadata": {
    "scrolled": false
   },
   "source": [
    "Converting names in the `name` column in both DataFrames to lowercase characters to avoid mismatch when mapping external data with internal data."
   ]
  },
  {
   "cell_type": "code",
   "execution_count": 9,
   "metadata": {
    "scrolled": false
   },
   "outputs": [],
   "source": [
    "data[\"name\"]=data[\"name\"].str.lower()\n",
    "ex_data[\"name\"]= ex_data[\"name\"].str.lower()"
   ]
  },
  {
   "cell_type": "markdown",
   "metadata": {},
   "source": [
    "Previewing general information of external data"
   ]
  },
  {
   "cell_type": "code",
   "execution_count": 10,
   "metadata": {
    "scrolled": false
   },
   "outputs": [
    {
     "name": "stdout",
     "output_type": "stream",
     "text": [
      "<class 'pandas.core.frame.DataFrame'>\n",
      "RangeIndex: 474417 entries, 0 to 474416\n",
      "Data columns (total 5 columns):\n",
      " #   Column       Non-Null Count   Dtype  \n",
      "---  ------       --------------   -----  \n",
      " 0   name         474415 non-null  object \n",
      " 1   metacritic   4733 non-null    float64\n",
      " 2   released     450218 non-null  object \n",
      " 3   rating       474417 non-null  float64\n",
      " 4   esrb_rating  55864 non-null   object \n",
      "dtypes: float64(2), object(3)\n",
      "memory usage: 18.1+ MB\n"
     ]
    }
   ],
   "source": [
    "ex_data.info()"
   ]
  },
  {
   "cell_type": "markdown",
   "metadata": {},
   "source": [
    "The `released` column is the date games were released and should be datatime data type. Hence, I would convert."
   ]
  },
  {
   "cell_type": "code",
   "execution_count": 11,
   "metadata": {
    "scrolled": false
   },
   "outputs": [
    {
     "name": "stdout",
     "output_type": "stream",
     "text": [
      "<class 'pandas.core.frame.DataFrame'>\n",
      "RangeIndex: 474417 entries, 0 to 474416\n",
      "Data columns (total 5 columns):\n",
      " #   Column        Non-Null Count   Dtype         \n",
      "---  ------        --------------   -----         \n",
      " 0   name          474415 non-null  object        \n",
      " 1   metacritic    4733 non-null    float64       \n",
      " 2   release_date  450218 non-null  datetime64[ns]\n",
      " 3   rating        474417 non-null  float64       \n",
      " 4   esrb_rating   55864 non-null   object        \n",
      "dtypes: datetime64[ns](1), float64(2), object(2)\n",
      "memory usage: 18.1+ MB\n"
     ]
    }
   ],
   "source": [
    "ex_data[\"released\"]=pd.to_datetime(ex_data[\"released\"], format =\"%m/%d/%Y\")\n",
    "ex_data.rename(columns={\"released\":\"release_date\"}, inplace=True)\n",
    "ex_data.info()"
   ]
  },
  {
   "cell_type": "markdown",
   "metadata": {},
   "source": [
    "Retrieving year of release as a new column"
   ]
  },
  {
   "cell_type": "code",
   "execution_count": 12,
   "metadata": {
    "scrolled": false
   },
   "outputs": [
    {
     "data": {
      "text/html": [
       "<div>\n",
       "<style scoped>\n",
       "    .dataframe tbody tr th:only-of-type {\n",
       "        vertical-align: middle;\n",
       "    }\n",
       "\n",
       "    .dataframe tbody tr th {\n",
       "        vertical-align: top;\n",
       "    }\n",
       "\n",
       "    .dataframe thead th {\n",
       "        text-align: right;\n",
       "    }\n",
       "</style>\n",
       "<table border=\"1\" class=\"dataframe\">\n",
       "  <thead>\n",
       "    <tr style=\"text-align: right;\">\n",
       "      <th></th>\n",
       "      <th>name</th>\n",
       "      <th>metacritic</th>\n",
       "      <th>release_date</th>\n",
       "      <th>rating</th>\n",
       "      <th>esrb_rating</th>\n",
       "      <th>release_year</th>\n",
       "    </tr>\n",
       "  </thead>\n",
       "  <tbody>\n",
       "    <tr>\n",
       "      <th>0</th>\n",
       "      <td>d/generation hd</td>\n",
       "      <td>NaN</td>\n",
       "      <td>2015-10-23</td>\n",
       "      <td>0.0</td>\n",
       "      <td>Everyone 10+</td>\n",
       "      <td>2015.0</td>\n",
       "    </tr>\n",
       "    <tr>\n",
       "      <th>1</th>\n",
       "      <td>g prime into the rain</td>\n",
       "      <td>NaN</td>\n",
       "      <td>2016-01-06</td>\n",
       "      <td>0.0</td>\n",
       "      <td>Everyone</td>\n",
       "      <td>2016.0</td>\n",
       "    </tr>\n",
       "    <tr>\n",
       "      <th>2</th>\n",
       "      <td>land sliders</td>\n",
       "      <td>NaN</td>\n",
       "      <td>2015-09-24</td>\n",
       "      <td>0.0</td>\n",
       "      <td>Everyone 10+</td>\n",
       "      <td>2015.0</td>\n",
       "    </tr>\n",
       "    <tr>\n",
       "      <th>3</th>\n",
       "      <td>pixel gear</td>\n",
       "      <td>NaN</td>\n",
       "      <td>2016-10-20</td>\n",
       "      <td>0.0</td>\n",
       "      <td>Teen</td>\n",
       "      <td>2016.0</td>\n",
       "    </tr>\n",
       "    <tr>\n",
       "      <th>4</th>\n",
       "      <td>gods and idols</td>\n",
       "      <td>NaN</td>\n",
       "      <td>2016-12-12</td>\n",
       "      <td>0.0</td>\n",
       "      <td>NaN</td>\n",
       "      <td>2016.0</td>\n",
       "    </tr>\n",
       "  </tbody>\n",
       "</table>\n",
       "</div>"
      ],
      "text/plain": [
       "                    name  metacritic release_date  rating   esrb_rating  \\\n",
       "0        d/generation hd         NaN   2015-10-23     0.0  Everyone 10+   \n",
       "1  g prime into the rain         NaN   2016-01-06     0.0      Everyone   \n",
       "2           land sliders         NaN   2015-09-24     0.0  Everyone 10+   \n",
       "3             pixel gear         NaN   2016-10-20     0.0          Teen   \n",
       "4         gods and idols         NaN   2016-12-12     0.0           NaN   \n",
       "\n",
       "   release_year  \n",
       "0        2015.0  \n",
       "1        2016.0  \n",
       "2        2015.0  \n",
       "3        2016.0  \n",
       "4        2016.0  "
      ]
     },
     "execution_count": 12,
     "metadata": {},
     "output_type": "execute_result"
    }
   ],
   "source": [
    "ex_data[\"release_year\"]=ex_data[\"release_date\"].dt.year\n",
    "ex_data.head()"
   ]
  },
  {
   "cell_type": "markdown",
   "metadata": {},
   "source": [
    "Counting number of null values in columns in the internal dataframe"
   ]
  },
  {
   "cell_type": "code",
   "execution_count": 13,
   "metadata": {
    "scrolled": false
   },
   "outputs": [
    {
     "data": {
      "text/plain": [
       "name                  2\n",
       "platform              0\n",
       "year_of_release     269\n",
       "genre                 2\n",
       "na_sales              0\n",
       "eu_sales              0\n",
       "jp_sales              0\n",
       "other_sales           0\n",
       "critic_score       8578\n",
       "user_score         6701\n",
       "rating             6766\n",
       "dtype: int64"
      ]
     },
     "execution_count": 13,
     "metadata": {},
     "output_type": "execute_result"
    }
   ],
   "source": [
    "data.isnull().sum()"
   ]
  },
  {
   "cell_type": "markdown",
   "metadata": {},
   "source": [
    "Visualising Missing Values"
   ]
  },
  {
   "cell_type": "code",
   "execution_count": 14,
   "metadata": {},
   "outputs": [
    {
     "data": {
      "image/png": "[encoded data removed]",
      "text/plain": [
       "<Figure size 1800x720 with 2 Axes>"
      ]
     },
     "metadata": {
      "needs_background": "light"
     },
     "output_type": "display_data"
    }
   ],
   "source": [
    "msno.matrix(data)\n",
    "plt.show()"
   ]
  },
  {
   "cell_type": "markdown",
   "metadata": {},
   "source": [
    "There are 269 missing values in the `year_of_release`. I will fill these  with the external data. I will first create a dictionary that contains name of games and released year from the external data. I will then map the dictionary with internal data to fill the missing values in the `year_of_release` column. This strategy would also be used to fill missing values in the `Critic_Score`,`User_Score`, and `Rating` columns."
   ]
  },
  {
   "cell_type": "code",
   "execution_count": 15,
   "metadata": {
    "scrolled": false
   },
   "outputs": [
    {
     "data": {
      "text/plain": [
       "79"
      ]
     },
     "execution_count": 15,
     "metadata": {},
     "output_type": "execute_result"
    }
   ],
   "source": [
    "year_dict =pd.Series(ex_data[\"release_year\"].values,index=ex_data[\"name\"]).to_dict()\n",
    "data[\"year_of_release\"] = data[\"year_of_release\"].fillna(data[\"name\"].map(year_dict))\n",
    "data[data[\"year_of_release\"].isnull()].shape[0]"
   ]
  },
  {
   "cell_type": "markdown",
   "metadata": {},
   "source": [
    "Filling `critic_score` column with external data"
   ]
  },
  {
   "cell_type": "code",
   "execution_count": 16,
   "metadata": {},
   "outputs": [
    {
     "data": {
      "text/plain": [
       "8169"
      ]
     },
     "execution_count": 16,
     "metadata": {},
     "output_type": "execute_result"
    }
   ],
   "source": [
    "critic_dict =pd.Series(ex_data[\"metacritic\"].values,index=ex_data[\"name\"]).to_dict() \n",
    "data[\"critic_score\"] = data[\"critic_score\"].fillna(data[\"name\"].map(critic_dict)) \n",
    "data[data[\"critic_score\"].isnull()].shape[0] "
   ]
  },
  {
   "cell_type": "markdown",
   "metadata": {},
   "source": [
    "Filling  `user_score` column with external data"
   ]
  },
  {
   "cell_type": "code",
   "execution_count": 17,
   "metadata": {},
   "outputs": [
    {
     "data": {
      "text/plain": [
       "4002"
      ]
     },
     "execution_count": 17,
     "metadata": {},
     "output_type": "execute_result"
    }
   ],
   "source": [
    "user_dict =pd.Series(ex_data[\"rating\"].values,index=ex_data[\"name\"]).to_dict()\n",
    "data[\"user_score\"] = data[\"user_score\"].fillna(data[\"name\"].map(user_dict))\n",
    "data[data[\"user_score\"].isnull()].shape[0]"
   ]
  },
  {
   "cell_type": "markdown",
   "metadata": {},
   "source": [
    "Filling `rating` column (esrb_rating) in internal column with external data"
   ]
  },
  {
   "cell_type": "code",
   "execution_count": 18,
   "metadata": {},
   "outputs": [
    {
     "data": {
      "text/plain": [
       "array(['Everyone 10+', 'Everyone', 'Teen', nan, 'Mature', 'Adults Only',\n",
       "       'Rating Pending'], dtype=object)"
      ]
     },
     "execution_count": 18,
     "metadata": {},
     "output_type": "execute_result"
    }
   ],
   "source": [
    "ex_data[\"esrb_rating\"].unique()"
   ]
  },
  {
   "cell_type": "markdown",
   "metadata": {},
   "source": [
    "As the column values in the internal column for `esrb_rating` is abreviated, there is the need to abbreviate the external\n",
    "data for conformity. I will do so with pandas map function."
   ]
  },
  {
   "cell_type": "code",
   "execution_count": 19,
   "metadata": {},
   "outputs": [
    {
     "data": {
      "text/plain": [
       "array(['E10+', 'E', 'T', nan, 'M', 'AO', 'RP'], dtype=object)"
      ]
     },
     "execution_count": 19,
     "metadata": {},
     "output_type": "execute_result"
    }
   ],
   "source": [
    "ex_data[\"esrb_rating\"]=ex_data[\"esrb_rating\"].map({\"Teen\": \"T\", \"Everyone 10+\":\"E10+\", \"Mature\":\"M\", \"Everyone\":\"E\",\\\n",
    "                            \"Adults Only\":\"AO\",\"Rating Pending\":\"RP\"})\n",
    "ex_data[\"esrb_rating\"].unique()"
   ]
  },
  {
   "cell_type": "markdown",
   "metadata": {},
   "source": [
    "Inspecting unique values in the ESRB rating in the internal DataFrame"
   ]
  },
  {
   "cell_type": "code",
   "execution_count": 20,
   "metadata": {},
   "outputs": [
    {
     "data": {
      "text/plain": [
       "array(['E', nan, 'M', 'T', 'E10+', 'K-A', 'AO', 'EC', 'RP'], dtype=object)"
      ]
     },
     "execution_count": 20,
     "metadata": {},
     "output_type": "execute_result"
    }
   ],
   "source": [
    "data[\"rating\"].unique()"
   ]
  },
  {
   "cell_type": "markdown",
   "metadata": {},
   "source": [
    "The `K-A` rating was known as `Kids to Adults` until 1998, when it was renamed `Everyone`, i,e. `E`. Therefore, I will\n",
    "replace `K-A` with `E`"
   ]
  },
  {
   "cell_type": "code",
   "execution_count": 21,
   "metadata": {},
   "outputs": [
    {
     "data": {
      "text/plain": [
       "array(['E', nan, 'M', 'T', 'E10+', 'AO', 'EC', 'RP'], dtype=object)"
      ]
     },
     "execution_count": 21,
     "metadata": {},
     "output_type": "execute_result"
    }
   ],
   "source": [
    "data[\"rating\"]=data[\"rating\"].replace(\"K-A\",\"E\")\n",
    "data[\"rating\"].unique()"
   ]
  },
  {
   "cell_type": "markdown",
   "metadata": {},
   "source": [
    "Filling missing values with external data"
   ]
  },
  {
   "cell_type": "code",
   "execution_count": 22,
   "metadata": {},
   "outputs": [
    {
     "data": {
      "text/plain": [
       "6190"
      ]
     },
     "execution_count": 22,
     "metadata": {},
     "output_type": "execute_result"
    }
   ],
   "source": [
    "esrb_dict =pd.Series(ex_data[\"esrb_rating\"].values,index=ex_data[\"name\"]).to_dict()\n",
    "data[\"rating\"] = data[\"rating\"].fillna(data[\"name\"].map(esrb_dict))\n",
    "data[data[\"rating\"].isnull()].shape[0]"
   ]
  },
  {
   "cell_type": "markdown",
   "metadata": {},
   "source": [
    "Total missing values after filling with external data"
   ]
  },
  {
   "cell_type": "code",
   "execution_count": 23,
   "metadata": {
    "scrolled": false
   },
   "outputs": [
    {
     "data": {
      "text/plain": [
       "name                  2\n",
       "platform              0\n",
       "year_of_release      79\n",
       "genre                 2\n",
       "na_sales              0\n",
       "eu_sales              0\n",
       "jp_sales              0\n",
       "other_sales           0\n",
       "critic_score       8169\n",
       "user_score         4002\n",
       "rating             6190\n",
       "dtype: int64"
      ]
     },
     "execution_count": 23,
     "metadata": {},
     "output_type": "execute_result"
    }
   ],
   "source": [
    "data.isnull().sum()"
   ]
  },
  {
   "cell_type": "markdown",
   "metadata": {},
   "source": [
    "Investigating records that do not have game names"
   ]
  },
  {
   "cell_type": "code",
   "execution_count": 24,
   "metadata": {},
   "outputs": [
    {
     "data": {
      "text/html": [
       "<div>\n",
       "<style scoped>\n",
       "    .dataframe tbody tr th:only-of-type {\n",
       "        vertical-align: middle;\n",
       "    }\n",
       "\n",
       "    .dataframe tbody tr th {\n",
       "        vertical-align: top;\n",
       "    }\n",
       "\n",
       "    .dataframe thead th {\n",
       "        text-align: right;\n",
       "    }\n",
       "</style>\n",
       "<table border=\"1\" class=\"dataframe\">\n",
       "  <thead>\n",
       "    <tr style=\"text-align: right;\">\n",
       "      <th></th>\n",
       "      <th>name</th>\n",
       "      <th>platform</th>\n",
       "      <th>year_of_release</th>\n",
       "      <th>genre</th>\n",
       "      <th>na_sales</th>\n",
       "      <th>eu_sales</th>\n",
       "      <th>jp_sales</th>\n",
       "      <th>other_sales</th>\n",
       "      <th>critic_score</th>\n",
       "      <th>user_score</th>\n",
       "      <th>rating</th>\n",
       "    </tr>\n",
       "  </thead>\n",
       "  <tbody>\n",
       "    <tr>\n",
       "      <th>659</th>\n",
       "      <td>NaN</td>\n",
       "      <td>GEN</td>\n",
       "      <td>1993.0</td>\n",
       "      <td>NaN</td>\n",
       "      <td>1.78</td>\n",
       "      <td>0.53</td>\n",
       "      <td>0.00</td>\n",
       "      <td>0.08</td>\n",
       "      <td>NaN</td>\n",
       "      <td>0</td>\n",
       "      <td>NaN</td>\n",
       "    </tr>\n",
       "    <tr>\n",
       "      <th>14244</th>\n",
       "      <td>NaN</td>\n",
       "      <td>GEN</td>\n",
       "      <td>1993.0</td>\n",
       "      <td>NaN</td>\n",
       "      <td>0.00</td>\n",
       "      <td>0.00</td>\n",
       "      <td>0.03</td>\n",
       "      <td>0.00</td>\n",
       "      <td>NaN</td>\n",
       "      <td>0</td>\n",
       "      <td>NaN</td>\n",
       "    </tr>\n",
       "  </tbody>\n",
       "</table>\n",
       "</div>"
      ],
      "text/plain": [
       "      name platform  year_of_release genre  na_sales  eu_sales  jp_sales  \\\n",
       "659    NaN      GEN           1993.0   NaN      1.78      0.53      0.00   \n",
       "14244  NaN      GEN           1993.0   NaN      0.00      0.00      0.03   \n",
       "\n",
       "       other_sales  critic_score user_score rating  \n",
       "659           0.08           NaN          0    NaN  \n",
       "14244         0.00           NaN          0    NaN  "
      ]
     },
     "execution_count": 24,
     "metadata": {},
     "output_type": "execute_result"
    }
   ],
   "source": [
    "data[data[\"name\"].isnull()]"
   ]
  },
  {
   "cell_type": "markdown",
   "metadata": {},
   "source": [
    "These two records were games released in 1993 on \"GEN\" platform but do no have names or genre. Clearly, the missing values in the two columns are from the same platform. "
   ]
  },
  {
   "cell_type": "markdown",
   "metadata": {},
   "source": [
    "Investigating the \"GEN\" platform"
   ]
  },
  {
   "cell_type": "code",
   "execution_count": 25,
   "metadata": {},
   "outputs": [
    {
     "data": {
      "text/html": [
       "<div>\n",
       "<style scoped>\n",
       "    .dataframe tbody tr th:only-of-type {\n",
       "        vertical-align: middle;\n",
       "    }\n",
       "\n",
       "    .dataframe tbody tr th {\n",
       "        vertical-align: top;\n",
       "    }\n",
       "\n",
       "    .dataframe thead th {\n",
       "        text-align: right;\n",
       "    }\n",
       "</style>\n",
       "<table border=\"1\" class=\"dataframe\">\n",
       "  <thead>\n",
       "    <tr style=\"text-align: right;\">\n",
       "      <th></th>\n",
       "      <th>name</th>\n",
       "      <th>platform</th>\n",
       "      <th>year_of_release</th>\n",
       "      <th>genre</th>\n",
       "      <th>na_sales</th>\n",
       "      <th>eu_sales</th>\n",
       "      <th>jp_sales</th>\n",
       "      <th>other_sales</th>\n",
       "      <th>critic_score</th>\n",
       "      <th>user_score</th>\n",
       "      <th>rating</th>\n",
       "    </tr>\n",
       "  </thead>\n",
       "  <tbody>\n",
       "    <tr>\n",
       "      <th>145</th>\n",
       "      <td>sonic the hedgehog 2</td>\n",
       "      <td>GEN</td>\n",
       "      <td>1992.0</td>\n",
       "      <td>Platform</td>\n",
       "      <td>4.47</td>\n",
       "      <td>1.20</td>\n",
       "      <td>0.16</td>\n",
       "      <td>0.19</td>\n",
       "      <td>NaN</td>\n",
       "      <td>4.27</td>\n",
       "      <td>E10+</td>\n",
       "    </tr>\n",
       "    <tr>\n",
       "      <th>257</th>\n",
       "      <td>sonic the hedgehog</td>\n",
       "      <td>GEN</td>\n",
       "      <td>1991.0</td>\n",
       "      <td>Platform</td>\n",
       "      <td>3.03</td>\n",
       "      <td>0.91</td>\n",
       "      <td>0.26</td>\n",
       "      <td>0.13</td>\n",
       "      <td>NaN</td>\n",
       "      <td>NaN</td>\n",
       "      <td>NaN</td>\n",
       "    </tr>\n",
       "    <tr>\n",
       "      <th>564</th>\n",
       "      <td>mortal kombat</td>\n",
       "      <td>GEN</td>\n",
       "      <td>1992.0</td>\n",
       "      <td>Fighting</td>\n",
       "      <td>1.95</td>\n",
       "      <td>0.63</td>\n",
       "      <td>0.00</td>\n",
       "      <td>0.09</td>\n",
       "      <td>NaN</td>\n",
       "      <td>3.93</td>\n",
       "      <td>NaN</td>\n",
       "    </tr>\n",
       "    <tr>\n",
       "      <th>588</th>\n",
       "      <td>streets of rage</td>\n",
       "      <td>GEN</td>\n",
       "      <td>1990.0</td>\n",
       "      <td>Action</td>\n",
       "      <td>1.86</td>\n",
       "      <td>0.55</td>\n",
       "      <td>0.11</td>\n",
       "      <td>0.08</td>\n",
       "      <td>NaN</td>\n",
       "      <td>4.28</td>\n",
       "      <td>T</td>\n",
       "    </tr>\n",
       "    <tr>\n",
       "      <th>659</th>\n",
       "      <td>NaN</td>\n",
       "      <td>GEN</td>\n",
       "      <td>1993.0</td>\n",
       "      <td>NaN</td>\n",
       "      <td>1.78</td>\n",
       "      <td>0.53</td>\n",
       "      <td>0.00</td>\n",
       "      <td>0.08</td>\n",
       "      <td>NaN</td>\n",
       "      <td>0</td>\n",
       "      <td>NaN</td>\n",
       "    </tr>\n",
       "    <tr>\n",
       "      <th>832</th>\n",
       "      <td>nba jam</td>\n",
       "      <td>GEN</td>\n",
       "      <td>1992.0</td>\n",
       "      <td>Sports</td>\n",
       "      <td>1.75</td>\n",
       "      <td>0.25</td>\n",
       "      <td>0.00</td>\n",
       "      <td>0.05</td>\n",
       "      <td>NaN</td>\n",
       "      <td>3.68</td>\n",
       "      <td>E</td>\n",
       "    </tr>\n",
       "    <tr>\n",
       "      <th>960</th>\n",
       "      <td>sonic &amp; knuckles</td>\n",
       "      <td>GEN</td>\n",
       "      <td>1994.0</td>\n",
       "      <td>Platform</td>\n",
       "      <td>1.24</td>\n",
       "      <td>0.43</td>\n",
       "      <td>0.03</td>\n",
       "      <td>0.12</td>\n",
       "      <td>NaN</td>\n",
       "      <td>4.3</td>\n",
       "      <td>E</td>\n",
       "    </tr>\n",
       "    <tr>\n",
       "      <th>996</th>\n",
       "      <td>sonic the hedgehog 3</td>\n",
       "      <td>GEN</td>\n",
       "      <td>1994.0</td>\n",
       "      <td>Platform</td>\n",
       "      <td>1.02</td>\n",
       "      <td>0.47</td>\n",
       "      <td>0.20</td>\n",
       "      <td>0.07</td>\n",
       "      <td>NaN</td>\n",
       "      <td>NaN</td>\n",
       "      <td>NaN</td>\n",
       "    </tr>\n",
       "    <tr>\n",
       "      <th>1099</th>\n",
       "      <td>street fighter ii': special champion edition</td>\n",
       "      <td>GEN</td>\n",
       "      <td>1992.0</td>\n",
       "      <td>Fighting</td>\n",
       "      <td>1.00</td>\n",
       "      <td>0.30</td>\n",
       "      <td>0.31</td>\n",
       "      <td>0.04</td>\n",
       "      <td>NaN</td>\n",
       "      <td>NaN</td>\n",
       "      <td>NaN</td>\n",
       "    </tr>\n",
       "    <tr>\n",
       "      <th>1365</th>\n",
       "      <td>disney's the lion king</td>\n",
       "      <td>GEN</td>\n",
       "      <td>1994.0</td>\n",
       "      <td>Platform</td>\n",
       "      <td>0.97</td>\n",
       "      <td>0.37</td>\n",
       "      <td>0.03</td>\n",
       "      <td>0.05</td>\n",
       "      <td>NaN</td>\n",
       "      <td>3.96</td>\n",
       "      <td>E</td>\n",
       "    </tr>\n",
       "    <tr>\n",
       "      <th>1453</th>\n",
       "      <td>mortal kombat 3</td>\n",
       "      <td>GEN</td>\n",
       "      <td>1994.0</td>\n",
       "      <td>Fighting</td>\n",
       "      <td>1.03</td>\n",
       "      <td>0.27</td>\n",
       "      <td>0.00</td>\n",
       "      <td>0.04</td>\n",
       "      <td>NaN</td>\n",
       "      <td>4.22</td>\n",
       "      <td>NaN</td>\n",
       "    </tr>\n",
       "    <tr>\n",
       "      <th>1842</th>\n",
       "      <td>nba jam tournament edition</td>\n",
       "      <td>GEN</td>\n",
       "      <td>1994.0</td>\n",
       "      <td>Sports</td>\n",
       "      <td>0.95</td>\n",
       "      <td>0.14</td>\n",
       "      <td>0.00</td>\n",
       "      <td>0.03</td>\n",
       "      <td>NaN</td>\n",
       "      <td>0</td>\n",
       "      <td>NaN</td>\n",
       "    </tr>\n",
       "    <tr>\n",
       "      <th>6451</th>\n",
       "      <td>virtua racing</td>\n",
       "      <td>GEN</td>\n",
       "      <td>1994.0</td>\n",
       "      <td>Racing</td>\n",
       "      <td>0.00</td>\n",
       "      <td>0.00</td>\n",
       "      <td>0.26</td>\n",
       "      <td>0.00</td>\n",
       "      <td>NaN</td>\n",
       "      <td>4.67</td>\n",
       "      <td>NaN</td>\n",
       "    </tr>\n",
       "    <tr>\n",
       "      <th>7885</th>\n",
       "      <td>shining force ii</td>\n",
       "      <td>GEN</td>\n",
       "      <td>1993.0</td>\n",
       "      <td>Strategy</td>\n",
       "      <td>0.00</td>\n",
       "      <td>0.00</td>\n",
       "      <td>0.19</td>\n",
       "      <td>0.00</td>\n",
       "      <td>NaN</td>\n",
       "      <td>NaN</td>\n",
       "      <td>NaN</td>\n",
       "    </tr>\n",
       "    <tr>\n",
       "      <th>8893</th>\n",
       "      <td>super street fighter ii</td>\n",
       "      <td>GEN</td>\n",
       "      <td>1993.0</td>\n",
       "      <td>Fighting</td>\n",
       "      <td>0.00</td>\n",
       "      <td>0.00</td>\n",
       "      <td>0.15</td>\n",
       "      <td>0.00</td>\n",
       "      <td>NaN</td>\n",
       "      <td>NaN</td>\n",
       "      <td>NaN</td>\n",
       "    </tr>\n",
       "    <tr>\n",
       "      <th>9000</th>\n",
       "      <td>lunar 2: eternal blue(sales, but wrong system)</td>\n",
       "      <td>GEN</td>\n",
       "      <td>1994.0</td>\n",
       "      <td>Role-Playing</td>\n",
       "      <td>0.00</td>\n",
       "      <td>0.00</td>\n",
       "      <td>0.14</td>\n",
       "      <td>0.00</td>\n",
       "      <td>NaN</td>\n",
       "      <td>NaN</td>\n",
       "      <td>NaN</td>\n",
       "    </tr>\n",
       "    <tr>\n",
       "      <th>9563</th>\n",
       "      <td>gunstar heroes</td>\n",
       "      <td>GEN</td>\n",
       "      <td>1992.0</td>\n",
       "      <td>Shooter</td>\n",
       "      <td>0.00</td>\n",
       "      <td>0.00</td>\n",
       "      <td>0.13</td>\n",
       "      <td>0.00</td>\n",
       "      <td>NaN</td>\n",
       "      <td>4.15</td>\n",
       "      <td>E10+</td>\n",
       "    </tr>\n",
       "    <tr>\n",
       "      <th>9787</th>\n",
       "      <td>ecco the dolphin</td>\n",
       "      <td>GEN</td>\n",
       "      <td>1992.0</td>\n",
       "      <td>Adventure</td>\n",
       "      <td>0.00</td>\n",
       "      <td>0.00</td>\n",
       "      <td>0.12</td>\n",
       "      <td>0.00</td>\n",
       "      <td>NaN</td>\n",
       "      <td>3.33</td>\n",
       "      <td>E</td>\n",
       "    </tr>\n",
       "    <tr>\n",
       "      <th>11563</th>\n",
       "      <td>yuu yuu hakusho: makyo toitsusen</td>\n",
       "      <td>GEN</td>\n",
       "      <td>1994.0</td>\n",
       "      <td>Fighting</td>\n",
       "      <td>0.00</td>\n",
       "      <td>0.00</td>\n",
       "      <td>0.08</td>\n",
       "      <td>0.00</td>\n",
       "      <td>NaN</td>\n",
       "      <td>0</td>\n",
       "      <td>NaN</td>\n",
       "    </tr>\n",
       "    <tr>\n",
       "      <th>11660</th>\n",
       "      <td>dragon slayer: the legend of heroes</td>\n",
       "      <td>GEN</td>\n",
       "      <td>1994.0</td>\n",
       "      <td>Role-Playing</td>\n",
       "      <td>0.00</td>\n",
       "      <td>0.00</td>\n",
       "      <td>0.08</td>\n",
       "      <td>0.00</td>\n",
       "      <td>NaN</td>\n",
       "      <td>0</td>\n",
       "      <td>NaN</td>\n",
       "    </tr>\n",
       "    <tr>\n",
       "      <th>11986</th>\n",
       "      <td>ecco: the tides of time</td>\n",
       "      <td>GEN</td>\n",
       "      <td>1993.0</td>\n",
       "      <td>Adventure</td>\n",
       "      <td>0.00</td>\n",
       "      <td>0.00</td>\n",
       "      <td>0.07</td>\n",
       "      <td>0.00</td>\n",
       "      <td>NaN</td>\n",
       "      <td>0</td>\n",
       "      <td>NaN</td>\n",
       "    </tr>\n",
       "    <tr>\n",
       "      <th>12098</th>\n",
       "      <td>street fighter ii': special champion edition (...</td>\n",
       "      <td>GEN</td>\n",
       "      <td>1993.0</td>\n",
       "      <td>Action</td>\n",
       "      <td>0.00</td>\n",
       "      <td>0.00</td>\n",
       "      <td>0.07</td>\n",
       "      <td>0.00</td>\n",
       "      <td>NaN</td>\n",
       "      <td>NaN</td>\n",
       "      <td>NaN</td>\n",
       "    </tr>\n",
       "    <tr>\n",
       "      <th>12264</th>\n",
       "      <td>streets of rage 3</td>\n",
       "      <td>GEN</td>\n",
       "      <td>1993.0</td>\n",
       "      <td>Action</td>\n",
       "      <td>0.00</td>\n",
       "      <td>0.00</td>\n",
       "      <td>0.07</td>\n",
       "      <td>0.00</td>\n",
       "      <td>NaN</td>\n",
       "      <td>4.21</td>\n",
       "      <td>NaN</td>\n",
       "    </tr>\n",
       "    <tr>\n",
       "      <th>12984</th>\n",
       "      <td>dynamite headdy</td>\n",
       "      <td>GEN</td>\n",
       "      <td>1993.0</td>\n",
       "      <td>Platform</td>\n",
       "      <td>0.00</td>\n",
       "      <td>0.00</td>\n",
       "      <td>0.05</td>\n",
       "      <td>0.00</td>\n",
       "      <td>NaN</td>\n",
       "      <td>0</td>\n",
       "      <td>NaN</td>\n",
       "    </tr>\n",
       "    <tr>\n",
       "      <th>13343</th>\n",
       "      <td>beyond oasis</td>\n",
       "      <td>GEN</td>\n",
       "      <td>1993.0</td>\n",
       "      <td>Role-Playing</td>\n",
       "      <td>0.00</td>\n",
       "      <td>0.00</td>\n",
       "      <td>0.05</td>\n",
       "      <td>0.00</td>\n",
       "      <td>NaN</td>\n",
       "      <td>0</td>\n",
       "      <td>NaN</td>\n",
       "    </tr>\n",
       "    <tr>\n",
       "      <th>14085</th>\n",
       "      <td>j-league pro striker 2</td>\n",
       "      <td>GEN</td>\n",
       "      <td>1994.0</td>\n",
       "      <td>Sports</td>\n",
       "      <td>0.00</td>\n",
       "      <td>0.00</td>\n",
       "      <td>0.04</td>\n",
       "      <td>0.00</td>\n",
       "      <td>NaN</td>\n",
       "      <td>NaN</td>\n",
       "      <td>NaN</td>\n",
       "    </tr>\n",
       "    <tr>\n",
       "      <th>14132</th>\n",
       "      <td>castlevania bloodlines</td>\n",
       "      <td>GEN</td>\n",
       "      <td>1994.0</td>\n",
       "      <td>Platform</td>\n",
       "      <td>0.00</td>\n",
       "      <td>0.00</td>\n",
       "      <td>0.04</td>\n",
       "      <td>0.00</td>\n",
       "      <td>NaN</td>\n",
       "      <td>NaN</td>\n",
       "      <td>NaN</td>\n",
       "    </tr>\n",
       "    <tr>\n",
       "      <th>14244</th>\n",
       "      <td>NaN</td>\n",
       "      <td>GEN</td>\n",
       "      <td>1993.0</td>\n",
       "      <td>NaN</td>\n",
       "      <td>0.00</td>\n",
       "      <td>0.00</td>\n",
       "      <td>0.03</td>\n",
       "      <td>0.00</td>\n",
       "      <td>NaN</td>\n",
       "      <td>0</td>\n",
       "      <td>NaN</td>\n",
       "    </tr>\n",
       "    <tr>\n",
       "      <th>14488</th>\n",
       "      <td>puzzle &amp; action: tant-r</td>\n",
       "      <td>GEN</td>\n",
       "      <td>1994.0</td>\n",
       "      <td>Misc</td>\n",
       "      <td>0.00</td>\n",
       "      <td>0.00</td>\n",
       "      <td>0.03</td>\n",
       "      <td>0.00</td>\n",
       "      <td>NaN</td>\n",
       "      <td>0</td>\n",
       "      <td>NaN</td>\n",
       "    </tr>\n",
       "  </tbody>\n",
       "</table>\n",
       "</div>"
      ],
      "text/plain": [
       "                                                    name platform  \\\n",
       "145                                 sonic the hedgehog 2      GEN   \n",
       "257                                   sonic the hedgehog      GEN   \n",
       "564                                        mortal kombat      GEN   \n",
       "588                                      streets of rage      GEN   \n",
       "659                                                  NaN      GEN   \n",
       "832                                              nba jam      GEN   \n",
       "960                                     sonic & knuckles      GEN   \n",
       "996                                 sonic the hedgehog 3      GEN   \n",
       "1099        street fighter ii': special champion edition      GEN   \n",
       "1365                              disney's the lion king      GEN   \n",
       "1453                                     mortal kombat 3      GEN   \n",
       "1842                          nba jam tournament edition      GEN   \n",
       "6451                                       virtua racing      GEN   \n",
       "7885                                    shining force ii      GEN   \n",
       "8893                             super street fighter ii      GEN   \n",
       "9000      lunar 2: eternal blue(sales, but wrong system)      GEN   \n",
       "9563                                      gunstar heroes      GEN   \n",
       "9787                                    ecco the dolphin      GEN   \n",
       "11563                   yuu yuu hakusho: makyo toitsusen      GEN   \n",
       "11660                dragon slayer: the legend of heroes      GEN   \n",
       "11986                            ecco: the tides of time      GEN   \n",
       "12098  street fighter ii': special champion edition (...      GEN   \n",
       "12264                                  streets of rage 3      GEN   \n",
       "12984                                    dynamite headdy      GEN   \n",
       "13343                                       beyond oasis      GEN   \n",
       "14085                             j-league pro striker 2      GEN   \n",
       "14132                             castlevania bloodlines      GEN   \n",
       "14244                                                NaN      GEN   \n",
       "14488                            puzzle & action: tant-r      GEN   \n",
       "\n",
       "       year_of_release         genre  na_sales  eu_sales  jp_sales  \\\n",
       "145             1992.0      Platform      4.47      1.20      0.16   \n",
       "257             1991.0      Platform      3.03      0.91      0.26   \n",
       "564             1992.0      Fighting      1.95      0.63      0.00   \n",
       "588             1990.0        Action      1.86      0.55      0.11   \n",
       "659             1993.0           NaN      1.78      0.53      0.00   \n",
       "832             1992.0        Sports      1.75      0.25      0.00   \n",
       "960             1994.0      Platform      1.24      0.43      0.03   \n",
       "996             1994.0      Platform      1.02      0.47      0.20   \n",
       "1099            1992.0      Fighting      1.00      0.30      0.31   \n",
       "1365            1994.0      Platform      0.97      0.37      0.03   \n",
       "1453            1994.0      Fighting      1.03      0.27      0.00   \n",
       "1842            1994.0        Sports      0.95      0.14      0.00   \n",
       "6451            1994.0        Racing      0.00      0.00      0.26   \n",
       "7885            1993.0      Strategy      0.00      0.00      0.19   \n",
       "8893            1993.0      Fighting      0.00      0.00      0.15   \n",
       "9000            1994.0  Role-Playing      0.00      0.00      0.14   \n",
       "9563            1992.0       Shooter      0.00      0.00      0.13   \n",
       "9787            1992.0     Adventure      0.00      0.00      0.12   \n",
       "11563           1994.0      Fighting      0.00      0.00      0.08   \n",
       "11660           1994.0  Role-Playing      0.00      0.00      0.08   \n",
       "11986           1993.0     Adventure      0.00      0.00      0.07   \n",
       "12098           1993.0        Action      0.00      0.00      0.07   \n",
       "12264           1993.0        Action      0.00      0.00      0.07   \n",
       "12984           1993.0      Platform      0.00      0.00      0.05   \n",
       "13343           1993.0  Role-Playing      0.00      0.00      0.05   \n",
       "14085           1994.0        Sports      0.00      0.00      0.04   \n",
       "14132           1994.0      Platform      0.00      0.00      0.04   \n",
       "14244           1993.0           NaN      0.00      0.00      0.03   \n",
       "14488           1994.0          Misc      0.00      0.00      0.03   \n",
       "\n",
       "       other_sales  critic_score user_score rating  \n",
       "145           0.19           NaN       4.27   E10+  \n",
       "257           0.13           NaN        NaN    NaN  \n",
       "564           0.09           NaN       3.93    NaN  \n",
       "588           0.08           NaN       4.28      T  \n",
       "659           0.08           NaN          0    NaN  \n",
       "832           0.05           NaN       3.68      E  \n",
       "960           0.12           NaN        4.3      E  \n",
       "996           0.07           NaN        NaN    NaN  \n",
       "1099          0.04           NaN        NaN    NaN  \n",
       "1365          0.05           NaN       3.96      E  \n",
       "1453          0.04           NaN       4.22    NaN  \n",
       "1842          0.03           NaN          0    NaN  \n",
       "6451          0.00           NaN       4.67    NaN  \n",
       "7885          0.00           NaN        NaN    NaN  \n",
       "8893          0.00           NaN        NaN    NaN  \n",
       "9000          0.00           NaN        NaN    NaN  \n",
       "9563          0.00           NaN       4.15   E10+  \n",
       "9787          0.00           NaN       3.33      E  \n",
       "11563         0.00           NaN          0    NaN  \n",
       "11660         0.00           NaN          0    NaN  \n",
       "11986         0.00           NaN          0    NaN  \n",
       "12098         0.00           NaN        NaN    NaN  \n",
       "12264         0.00           NaN       4.21    NaN  \n",
       "12984         0.00           NaN          0    NaN  \n",
       "13343         0.00           NaN          0    NaN  \n",
       "14085         0.00           NaN        NaN    NaN  \n",
       "14132         0.00           NaN        NaN    NaN  \n",
       "14244         0.00           NaN          0    NaN  \n",
       "14488         0.00           NaN          0    NaN  "
      ]
     },
     "execution_count": 25,
     "metadata": {},
     "output_type": "execute_result"
    }
   ],
   "source": [
    "data[data[\"platform\"]==\"GEN\"]"
   ]
  },
  {
   "cell_type": "markdown",
   "metadata": {},
   "source": [
    "It is not so obvious the name and genre to fill the missing values, hence, I will drop these two records "
   ]
  },
  {
   "cell_type": "code",
   "execution_count": 26,
   "metadata": {},
   "outputs": [
    {
     "name": "stdout",
     "output_type": "stream",
     "text": [
      "<class 'pandas.core.frame.DataFrame'>\n",
      "Int64Index: 16713 entries, 0 to 16714\n",
      "Data columns (total 11 columns):\n",
      " #   Column           Non-Null Count  Dtype  \n",
      "---  ------           --------------  -----  \n",
      " 0   name             16713 non-null  object \n",
      " 1   platform         16713 non-null  object \n",
      " 2   year_of_release  16634 non-null  float64\n",
      " 3   genre            16713 non-null  object \n",
      " 4   na_sales         16713 non-null  float64\n",
      " 5   eu_sales         16713 non-null  float64\n",
      " 6   jp_sales         16713 non-null  float64\n",
      " 7   other_sales      16713 non-null  float64\n",
      " 8   critic_score     8546 non-null   float64\n",
      " 9   user_score       12711 non-null  object \n",
      " 10  rating           10525 non-null  object \n",
      "dtypes: float64(6), object(5)\n",
      "memory usage: 1.5+ MB\n"
     ]
    }
   ],
   "source": [
    "data= data.dropna(subset=[\"name\",\"genre\"])\n",
    "data.info()"
   ]
  },
  {
   "cell_type": "markdown",
   "metadata": {},
   "source": [
    "Filling the 79 missing values in the year_of_release column."
   ]
  },
  {
   "cell_type": "markdown",
   "metadata": {},
   "source": [
    "Because games are usually published for specific platforms ( unless it is a \"Remastered\" version), I will group games by platforms and fill with the most occurring year (mode). "
   ]
  },
  {
   "cell_type": "code",
   "execution_count": 27,
   "metadata": {},
   "outputs": [
    {
     "data": {
      "text/plain": [
       "0"
      ]
     },
     "execution_count": 27,
     "metadata": {},
     "output_type": "execute_result"
    }
   ],
   "source": [
    "model_rating= lambda x: x.mode().iloc[0]\n",
    "data[\"year_of_release\"]=data[\"year_of_release\"].fillna(data.groupby(\"platform\")[\"year_of_release\"].transform(model_rating))\n",
    "data[data[\"year_of_release\"].isnull()].shape[0]"
   ]
  },
  {
   "cell_type": "code",
   "execution_count": 28,
   "metadata": {},
   "outputs": [
    {
     "data": {
      "text/plain": [
       "array([2006., 1985., 2008., 2009., 1996., 1989., 1984., 2005., 1999.,\n",
       "       2007., 2010., 2013., 2004., 1990., 1988., 2002., 2001., 2011.,\n",
       "       1998., 2015., 2012., 2014., 1992., 1997., 1993., 1994., 1982.,\n",
       "       2016., 2003., 1986., 2000., 1995., 1991., 1981., 1987., 1980.,\n",
       "       1983., 1979., 1977., 2017., 2020., 2019.])"
      ]
     },
     "execution_count": 28,
     "metadata": {},
     "output_type": "execute_result"
    }
   ],
   "source": [
    "data[\"year_of_release\"].unique()"
   ]
  },
  {
   "cell_type": "markdown",
   "metadata": {
    "scrolled": false
   },
   "source": [
    "The kaggle data (external data) is updated compared to the internal data. Hence, games that existed after 2016, i.e. 2017, 2019, and 2020 were also filled. I will therefore drop these records as the data for the study spans up to 2016."
   ]
  },
  {
   "cell_type": "code",
   "execution_count": 29,
   "metadata": {
    "scrolled": false
   },
   "outputs": [
    {
     "data": {
      "text/plain": [
       "array([2006., 1985., 2008., 2009., 1996., 1989., 1984., 2005., 1999.,\n",
       "       2007., 2010., 2013., 2004., 1990., 1988., 2002., 2001., 2011.,\n",
       "       1998., 2015., 2012., 2014., 1992., 1997., 1993., 1994., 1982.,\n",
       "       2016., 2003., 1986., 2000., 1995., 1991., 1981., 1987., 1980.,\n",
       "       1983., 1979., 1977.])"
      ]
     },
     "execution_count": 29,
     "metadata": {},
     "output_type": "execute_result"
    }
   ],
   "source": [
    "year_drop=[2017.0,2019.0,2020.0]\n",
    "for i in year_drop:\n",
    "    data.drop(data[data[\"year_of_release\"]== i].index, inplace=True)\n",
    "data[\"year_of_release\"].unique()"
   ]
  },
  {
   "cell_type": "markdown",
   "metadata": {
    "scrolled": false
   },
   "source": [
    "Dealing with remaining missing values in the review columns"
   ]
  },
  {
   "cell_type": "code",
   "execution_count": 30,
   "metadata": {},
   "outputs": [
    {
     "data": {
      "text/plain": [
       "name                  0\n",
       "platform              0\n",
       "year_of_release       0\n",
       "genre                 0\n",
       "na_sales              0\n",
       "eu_sales              0\n",
       "jp_sales              0\n",
       "other_sales           0\n",
       "critic_score       8163\n",
       "user_score         4002\n",
       "rating             6185\n",
       "dtype: int64"
      ]
     },
     "execution_count": 30,
     "metadata": {},
     "output_type": "execute_result"
    }
   ],
   "source": [
    "data.isnull().sum()"
   ]
  },
  {
   "cell_type": "markdown",
   "metadata": {},
   "source": [
    "The missing values in the review columns are a lot. If I decide to fill with any metric (mean, median, mode, etc), I would probable skew the results rather than improving it. It is okay that a lot of games do not have scores or ratings because they could be old or very niche. Also, each column has at least 8000 values which is enough for any analysis. "
   ]
  },
  {
   "cell_type": "markdown",
   "metadata": {},
   "source": [
    "The data description showed the `user_score`column has a string `tbd`.\n",
    "Investigating the number of records with \"tbd\" values."
   ]
  },
  {
   "cell_type": "code",
   "execution_count": 31,
   "metadata": {},
   "outputs": [
    {
     "data": {
      "text/plain": [
       "2424"
      ]
     },
     "execution_count": 31,
     "metadata": {},
     "output_type": "execute_result"
    }
   ],
   "source": [
    "data[data[\"user_score\"]==\"tbd\"].shape[0]"
   ]
  },
  {
   "cell_type": "markdown",
   "metadata": {},
   "source": [
    "There are 2424 missing values among the missing values in the `user_score` column. I will replace them with a floating point value `NaN` to smooth analysis as I can now convert the data type for `user_score`to float."
   ]
  },
  {
   "cell_type": "code",
   "execution_count": 32,
   "metadata": {},
   "outputs": [],
   "source": [
    "data[\"user_score\"]=data[\"user_score\"].replace(\"tbd\", float(\"nan\"))"
   ]
  },
  {
   "cell_type": "markdown",
   "metadata": {},
   "source": [
    "Converting columns to required data types"
   ]
  },
  {
   "cell_type": "code",
   "execution_count": 33,
   "metadata": {},
   "outputs": [
    {
     "name": "stdout",
     "output_type": "stream",
     "text": [
      "<class 'pandas.core.frame.DataFrame'>\n",
      "Int64Index: 16706 entries, 0 to 16714\n",
      "Data columns (total 11 columns):\n",
      " #   Column           Non-Null Count  Dtype  \n",
      "---  ------           --------------  -----  \n",
      " 0   name             16706 non-null  object \n",
      " 1   platform         16706 non-null  object \n",
      " 2   year_of_release  16706 non-null  int64  \n",
      " 3   genre            16706 non-null  object \n",
      " 4   na_sales         16706 non-null  float64\n",
      " 5   eu_sales         16706 non-null  float64\n",
      " 6   jp_sales         16706 non-null  float64\n",
      " 7   other_sales      16706 non-null  float64\n",
      " 8   critic_score     8543 non-null   float64\n",
      " 9   user_score       10280 non-null  float64\n",
      " 10  rating           10521 non-null  object \n",
      "dtypes: float64(6), int64(1), object(4)\n",
      "memory usage: 1.5+ MB\n"
     ]
    }
   ],
   "source": [
    "data[\"user_score\"]= data[\"user_score\"].astype(\"float\") \n",
    "data[\"year_of_release\"]= data[\"year_of_release\"].astype(\"int64\")\n",
    "data.info()"
   ]
  },
  {
   "cell_type": "markdown",
   "metadata": {},
   "source": [
    "Calculating total sales (the sum of sales in all regions) for each game"
   ]
  },
  {
   "cell_type": "code",
   "execution_count": 34,
   "metadata": {},
   "outputs": [
    {
     "data": {
      "text/html": [
       "<div>\n",
       "<style scoped>\n",
       "    .dataframe tbody tr th:only-of-type {\n",
       "        vertical-align: middle;\n",
       "    }\n",
       "\n",
       "    .dataframe tbody tr th {\n",
       "        vertical-align: top;\n",
       "    }\n",
       "\n",
       "    .dataframe thead th {\n",
       "        text-align: right;\n",
       "    }\n",
       "</style>\n",
       "<table border=\"1\" class=\"dataframe\">\n",
       "  <thead>\n",
       "    <tr style=\"text-align: right;\">\n",
       "      <th></th>\n",
       "      <th>name</th>\n",
       "      <th>platform</th>\n",
       "      <th>year_of_release</th>\n",
       "      <th>genre</th>\n",
       "      <th>na_sales</th>\n",
       "      <th>eu_sales</th>\n",
       "      <th>jp_sales</th>\n",
       "      <th>other_sales</th>\n",
       "      <th>critic_score</th>\n",
       "      <th>user_score</th>\n",
       "      <th>rating</th>\n",
       "      <th>total_sales</th>\n",
       "    </tr>\n",
       "  </thead>\n",
       "  <tbody>\n",
       "    <tr>\n",
       "      <th>0</th>\n",
       "      <td>wii sports</td>\n",
       "      <td>Wii</td>\n",
       "      <td>2006</td>\n",
       "      <td>Sports</td>\n",
       "      <td>41.36</td>\n",
       "      <td>28.96</td>\n",
       "      <td>3.77</td>\n",
       "      <td>8.45</td>\n",
       "      <td>76.0</td>\n",
       "      <td>8.00</td>\n",
       "      <td>E</td>\n",
       "      <td>82.54</td>\n",
       "    </tr>\n",
       "    <tr>\n",
       "      <th>1</th>\n",
       "      <td>super mario bros.</td>\n",
       "      <td>NES</td>\n",
       "      <td>1985</td>\n",
       "      <td>Platform</td>\n",
       "      <td>29.08</td>\n",
       "      <td>3.58</td>\n",
       "      <td>6.81</td>\n",
       "      <td>0.77</td>\n",
       "      <td>NaN</td>\n",
       "      <td>4.27</td>\n",
       "      <td>NaN</td>\n",
       "      <td>40.24</td>\n",
       "    </tr>\n",
       "    <tr>\n",
       "      <th>2</th>\n",
       "      <td>mario kart wii</td>\n",
       "      <td>Wii</td>\n",
       "      <td>2008</td>\n",
       "      <td>Racing</td>\n",
       "      <td>15.68</td>\n",
       "      <td>12.76</td>\n",
       "      <td>3.79</td>\n",
       "      <td>3.29</td>\n",
       "      <td>82.0</td>\n",
       "      <td>8.30</td>\n",
       "      <td>E</td>\n",
       "      <td>35.52</td>\n",
       "    </tr>\n",
       "    <tr>\n",
       "      <th>3</th>\n",
       "      <td>wii sports resort</td>\n",
       "      <td>Wii</td>\n",
       "      <td>2009</td>\n",
       "      <td>Sports</td>\n",
       "      <td>15.61</td>\n",
       "      <td>10.93</td>\n",
       "      <td>3.28</td>\n",
       "      <td>2.95</td>\n",
       "      <td>80.0</td>\n",
       "      <td>8.00</td>\n",
       "      <td>E</td>\n",
       "      <td>32.77</td>\n",
       "    </tr>\n",
       "    <tr>\n",
       "      <th>4</th>\n",
       "      <td>pokemon red/pokemon blue</td>\n",
       "      <td>GB</td>\n",
       "      <td>1996</td>\n",
       "      <td>Role-Playing</td>\n",
       "      <td>11.27</td>\n",
       "      <td>8.89</td>\n",
       "      <td>10.22</td>\n",
       "      <td>1.00</td>\n",
       "      <td>NaN</td>\n",
       "      <td>NaN</td>\n",
       "      <td>NaN</td>\n",
       "      <td>31.38</td>\n",
       "    </tr>\n",
       "  </tbody>\n",
       "</table>\n",
       "</div>"
      ],
      "text/plain": [
       "                       name platform  year_of_release         genre  na_sales  \\\n",
       "0                wii sports      Wii             2006        Sports     41.36   \n",
       "1         super mario bros.      NES             1985      Platform     29.08   \n",
       "2            mario kart wii      Wii             2008        Racing     15.68   \n",
       "3         wii sports resort      Wii             2009        Sports     15.61   \n",
       "4  pokemon red/pokemon blue       GB             1996  Role-Playing     11.27   \n",
       "\n",
       "   eu_sales  jp_sales  other_sales  critic_score  user_score rating  \\\n",
       "0     28.96      3.77         8.45          76.0        8.00      E   \n",
       "1      3.58      6.81         0.77           NaN        4.27    NaN   \n",
       "2     12.76      3.79         3.29          82.0        8.30      E   \n",
       "3     10.93      3.28         2.95          80.0        8.00      E   \n",
       "4      8.89     10.22         1.00           NaN         NaN    NaN   \n",
       "\n",
       "   total_sales  \n",
       "0        82.54  \n",
       "1        40.24  \n",
       "2        35.52  \n",
       "3        32.77  \n",
       "4        31.38  "
      ]
     },
     "execution_count": 34,
     "metadata": {},
     "output_type": "execute_result"
    }
   ],
   "source": [
    "data[\"total_sales\"] = data[[\"na_sales\",\"eu_sales\",\"jp_sales\",\"other_sales\"]].sum(axis=1)\n",
    "data.head()"
   ]
  },
  {
   "cell_type": "markdown",
   "metadata": {},
   "source": [
    "### Interim conclusion\n",
    "Column names, and game names have been replaced with lowercase characters. External data was imported to help fill some of the missing values; remaining missing values have been dealt with, data converted to the required types, and total sales column added to DataFrame ."
   ]
  },
  {
   "cell_type": "markdown",
   "metadata": {},
   "source": [
    "## Step 3. Analyze the data "
   ]
  },
  {
   "cell_type": "markdown",
   "metadata": {},
   "source": [
    "Looking at the number of games that were released in different years to see if data for every period is significant"
   ]
  },
  {
   "cell_type": "code",
   "execution_count": 35,
   "metadata": {
    "scrolled": false
   },
   "outputs": [
    {
     "data": {
      "text/html": [
       "<div>\n",
       "<style scoped>\n",
       "    .dataframe tbody tr th:only-of-type {\n",
       "        vertical-align: middle;\n",
       "    }\n",
       "\n",
       "    .dataframe tbody tr th {\n",
       "        vertical-align: top;\n",
       "    }\n",
       "\n",
       "    .dataframe thead th {\n",
       "        text-align: right;\n",
       "    }\n",
       "</style>\n",
       "<table border=\"1\" class=\"dataframe\">\n",
       "  <thead>\n",
       "    <tr style=\"text-align: right;\">\n",
       "      <th></th>\n",
       "      <th>year_of_release</th>\n",
       "      <th>number_of_games</th>\n",
       "    </tr>\n",
       "  </thead>\n",
       "  <tbody>\n",
       "    <tr>\n",
       "      <th>0</th>\n",
       "      <td>1977</td>\n",
       "      <td>2</td>\n",
       "    </tr>\n",
       "    <tr>\n",
       "      <th>1</th>\n",
       "      <td>1979</td>\n",
       "      <td>1</td>\n",
       "    </tr>\n",
       "    <tr>\n",
       "      <th>2</th>\n",
       "      <td>1980</td>\n",
       "      <td>11</td>\n",
       "    </tr>\n",
       "    <tr>\n",
       "      <th>3</th>\n",
       "      <td>1981</td>\n",
       "      <td>49</td>\n",
       "    </tr>\n",
       "    <tr>\n",
       "      <th>4</th>\n",
       "      <td>1982</td>\n",
       "      <td>37</td>\n",
       "    </tr>\n",
       "    <tr>\n",
       "      <th>5</th>\n",
       "      <td>1983</td>\n",
       "      <td>17</td>\n",
       "    </tr>\n",
       "    <tr>\n",
       "      <th>6</th>\n",
       "      <td>1984</td>\n",
       "      <td>14</td>\n",
       "    </tr>\n",
       "    <tr>\n",
       "      <th>7</th>\n",
       "      <td>1985</td>\n",
       "      <td>14</td>\n",
       "    </tr>\n",
       "    <tr>\n",
       "      <th>8</th>\n",
       "      <td>1986</td>\n",
       "      <td>21</td>\n",
       "    </tr>\n",
       "    <tr>\n",
       "      <th>9</th>\n",
       "      <td>1987</td>\n",
       "      <td>16</td>\n",
       "    </tr>\n",
       "    <tr>\n",
       "      <th>10</th>\n",
       "      <td>1988</td>\n",
       "      <td>16</td>\n",
       "    </tr>\n",
       "    <tr>\n",
       "      <th>11</th>\n",
       "      <td>1989</td>\n",
       "      <td>18</td>\n",
       "    </tr>\n",
       "    <tr>\n",
       "      <th>12</th>\n",
       "      <td>1990</td>\n",
       "      <td>17</td>\n",
       "    </tr>\n",
       "    <tr>\n",
       "      <th>13</th>\n",
       "      <td>1991</td>\n",
       "      <td>41</td>\n",
       "    </tr>\n",
       "    <tr>\n",
       "      <th>14</th>\n",
       "      <td>1992</td>\n",
       "      <td>43</td>\n",
       "    </tr>\n",
       "    <tr>\n",
       "      <th>15</th>\n",
       "      <td>1993</td>\n",
       "      <td>60</td>\n",
       "    </tr>\n",
       "    <tr>\n",
       "      <th>16</th>\n",
       "      <td>1994</td>\n",
       "      <td>121</td>\n",
       "    </tr>\n",
       "    <tr>\n",
       "      <th>17</th>\n",
       "      <td>1995</td>\n",
       "      <td>219</td>\n",
       "    </tr>\n",
       "    <tr>\n",
       "      <th>18</th>\n",
       "      <td>1996</td>\n",
       "      <td>263</td>\n",
       "    </tr>\n",
       "    <tr>\n",
       "      <th>19</th>\n",
       "      <td>1997</td>\n",
       "      <td>290</td>\n",
       "    </tr>\n",
       "    <tr>\n",
       "      <th>20</th>\n",
       "      <td>1998</td>\n",
       "      <td>382</td>\n",
       "    </tr>\n",
       "    <tr>\n",
       "      <th>21</th>\n",
       "      <td>1999</td>\n",
       "      <td>341</td>\n",
       "    </tr>\n",
       "    <tr>\n",
       "      <th>22</th>\n",
       "      <td>2000</td>\n",
       "      <td>353</td>\n",
       "    </tr>\n",
       "    <tr>\n",
       "      <th>23</th>\n",
       "      <td>2001</td>\n",
       "      <td>490</td>\n",
       "    </tr>\n",
       "    <tr>\n",
       "      <th>24</th>\n",
       "      <td>2002</td>\n",
       "      <td>868</td>\n",
       "    </tr>\n",
       "    <tr>\n",
       "      <th>25</th>\n",
       "      <td>2003</td>\n",
       "      <td>788</td>\n",
       "    </tr>\n",
       "    <tr>\n",
       "      <th>26</th>\n",
       "      <td>2004</td>\n",
       "      <td>773</td>\n",
       "    </tr>\n",
       "    <tr>\n",
       "      <th>27</th>\n",
       "      <td>2005</td>\n",
       "      <td>944</td>\n",
       "    </tr>\n",
       "    <tr>\n",
       "      <th>28</th>\n",
       "      <td>2006</td>\n",
       "      <td>1028</td>\n",
       "    </tr>\n",
       "    <tr>\n",
       "      <th>29</th>\n",
       "      <td>2007</td>\n",
       "      <td>1207</td>\n",
       "    </tr>\n",
       "    <tr>\n",
       "      <th>30</th>\n",
       "      <td>2008</td>\n",
       "      <td>1452</td>\n",
       "    </tr>\n",
       "    <tr>\n",
       "      <th>31</th>\n",
       "      <td>2009</td>\n",
       "      <td>1448</td>\n",
       "    </tr>\n",
       "    <tr>\n",
       "      <th>32</th>\n",
       "      <td>2010</td>\n",
       "      <td>1284</td>\n",
       "    </tr>\n",
       "    <tr>\n",
       "      <th>33</th>\n",
       "      <td>2011</td>\n",
       "      <td>1180</td>\n",
       "    </tr>\n",
       "    <tr>\n",
       "      <th>34</th>\n",
       "      <td>2012</td>\n",
       "      <td>660</td>\n",
       "    </tr>\n",
       "    <tr>\n",
       "      <th>35</th>\n",
       "      <td>2013</td>\n",
       "      <td>546</td>\n",
       "    </tr>\n",
       "    <tr>\n",
       "      <th>36</th>\n",
       "      <td>2014</td>\n",
       "      <td>581</td>\n",
       "    </tr>\n",
       "    <tr>\n",
       "      <th>37</th>\n",
       "      <td>2015</td>\n",
       "      <td>607</td>\n",
       "    </tr>\n",
       "    <tr>\n",
       "      <th>38</th>\n",
       "      <td>2016</td>\n",
       "      <td>504</td>\n",
       "    </tr>\n",
       "  </tbody>\n",
       "</table>\n",
       "</div>"
      ],
      "text/plain": [
       "    year_of_release  number_of_games\n",
       "0              1977                2\n",
       "1              1979                1\n",
       "2              1980               11\n",
       "3              1981               49\n",
       "4              1982               37\n",
       "5              1983               17\n",
       "6              1984               14\n",
       "7              1985               14\n",
       "8              1986               21\n",
       "9              1987               16\n",
       "10             1988               16\n",
       "11             1989               18\n",
       "12             1990               17\n",
       "13             1991               41\n",
       "14             1992               43\n",
       "15             1993               60\n",
       "16             1994              121\n",
       "17             1995              219\n",
       "18             1996              263\n",
       "19             1997              290\n",
       "20             1998              382\n",
       "21             1999              341\n",
       "22             2000              353\n",
       "23             2001              490\n",
       "24             2002              868\n",
       "25             2003              788\n",
       "26             2004              773\n",
       "27             2005              944\n",
       "28             2006             1028\n",
       "29             2007             1207\n",
       "30             2008             1452\n",
       "31             2009             1448\n",
       "32             2010             1284\n",
       "33             2011             1180\n",
       "34             2012              660\n",
       "35             2013              546\n",
       "36             2014              581\n",
       "37             2015              607\n",
       "38             2016              504"
      ]
     },
     "execution_count": 35,
     "metadata": {},
     "output_type": "execute_result"
    }
   ],
   "source": [
    "df=data.pivot_table(index=[\"year_of_release\"],values=\"name\", aggfunc= \"count\")\\\n",
    ".reset_index().rename(columns= {\"name\":\"number_of_games\"})\n",
    "df"
   ]
  },
  {
   "cell_type": "markdown",
   "metadata": {},
   "source": [
    "Visualising the the number of games in every period"
   ]
  },
  {
   "cell_type": "code",
   "execution_count": 36,
   "metadata": {},
   "outputs": [
    {
     "data": {
      "image/png": "[encoded data removed]",
      "text/plain": [
       "<Figure size 1152x720 with 1 Axes>"
      ]
     },
     "metadata": {
      "needs_background": "light"
     },
     "output_type": "display_data"
    }
   ],
   "source": [
    "fig, ax = plt.subplots(figsize=(16,10))\n",
    "ax.vlines(x=df[\"year_of_release\"], ymin=0, ymax=df.number_of_games,color=\"teal\",alpha=0.8)\n",
    "ax.scatter(x=df[\"year_of_release\"],  y= df.number_of_games, s=80,color=\"Black\", alpha=0.8)\n",
    "ax.set_title(\"Lollypop Chart of Number of Games Released in a Year\", fontdict={\"size\":15})\n",
    "ax.set_xticklabels(df[\"year_of_release\"], rotation=90,minor=True ,fontdict={\"horizontalalignment\":\"right\",\"size\":12})\n",
    "plt.xlabel(\"Year of Release\", fontdict={\"size\":15})\n",
    "plt.ylabel(\"Number of Games\", fontdict={\"size\":15})\n",
    "for row in df.itertuples():\n",
    "    ax.text(row.year_of_release,row.number_of_games+30, s=round(row.number_of_games,2))\n",
    "plt.show()"
   ]
  },
  {
   "cell_type": "markdown",
   "metadata": {},
   "source": [
    "The data for every period is not significant. For instance, data for early years of game release (from 1977 to 1990), have only one period (1981) that had more than 40 games released. Data from periods spanning from mid 1990s is significant for every period. The number of games released in a year peaked in 2008 and significantly started falling from 2010"
   ]
  },
  {
   "cell_type": "markdown",
   "metadata": {
    "scrolled": false
   },
   "source": [
    "Considering how sales varied from platform to platform. I will choose the platforms with the greatest total sales and build a distribution based on data for each year. A z-score or standard score would be calculated and added as a column to have an idea of how far from the mean a sales data point is; to help determine profitable and non-profitable platforms"
   ]
  },
  {
   "cell_type": "code",
   "execution_count": 37,
   "metadata": {
    "scrolled": false
   },
   "outputs": [
    {
     "data": {
      "image/png": "[encoded data removed]",
      "text/plain": [
       "<Figure size 1224x720 with 1 Axes>"
      ]
     },
     "metadata": {
      "needs_background": "light"
     },
     "output_type": "display_data"
    }
   ],
   "source": [
    "platform = data.pivot_table(index = \"platform\", values = \"total_sales\", aggfunc=\"sum\")\n",
    "platform[\"sales_zscore\"] = (platform[\"total_sales\"] - platform[\"total_sales\"].mean())/platform[\"total_sales\"].std()\n",
    "platform[\"colours\"] = [\"red\" if x < 0 else \"teal\" for x in platform[\"sales_zscore\"]]\n",
    "platform.sort_values(by=\"sales_zscore\", inplace = True)\n",
    "\n",
    "fig, ax = plt.subplots(figsize=(17,10))\n",
    "plt.hlines(y = platform.index,xmin = 0, xmax = platform.sales_zscore,color=platform.colours, alpha=0.5, linewidth=10)\n",
    "ax.set_title(\"Profitable and Non-profitable Platforms\", fontdict={\"size\":15})\n",
    "plt.xlabel(\"Standard Score\",fontdict={\"size\":15})\n",
    "plt.ylabel(\"Platform\",fontdict={\"size\":15})\n",
    "plt.show()"
   ]
  },
  {
   "cell_type": "markdown",
   "metadata": {
    "scrolled": false
   },
   "source": [
    "The greatest performing platforms are 'PS2', 'X360', 'PS3', 'Wii', 'DS', and 'PS'. The PS2 platform is the leading plaform in total game sales. \n",
    "\n",
    "Building a distribution for these platforms for each year. The distribution will display platforms that **used to be popular but now have zero sales.**"
   ]
  },
  {
   "cell_type": "code",
   "execution_count": 38,
   "metadata": {
    "scrolled": false
   },
   "outputs": [
    {
     "data": {
      "text/html": [
       "<div>\n",
       "<style scoped>\n",
       "    .dataframe tbody tr th:only-of-type {\n",
       "        vertical-align: middle;\n",
       "    }\n",
       "\n",
       "    .dataframe tbody tr th {\n",
       "        vertical-align: top;\n",
       "    }\n",
       "\n",
       "    .dataframe thead th {\n",
       "        text-align: right;\n",
       "    }\n",
       "</style>\n",
       "<table border=\"1\" class=\"dataframe\">\n",
       "  <thead>\n",
       "    <tr style=\"text-align: right;\">\n",
       "      <th></th>\n",
       "      <th>name</th>\n",
       "      <th>platform</th>\n",
       "      <th>year_of_release</th>\n",
       "      <th>genre</th>\n",
       "      <th>na_sales</th>\n",
       "      <th>eu_sales</th>\n",
       "      <th>jp_sales</th>\n",
       "      <th>other_sales</th>\n",
       "      <th>critic_score</th>\n",
       "      <th>user_score</th>\n",
       "      <th>rating</th>\n",
       "      <th>total_sales</th>\n",
       "    </tr>\n",
       "  </thead>\n",
       "  <tbody>\n",
       "    <tr>\n",
       "      <th>0</th>\n",
       "      <td>wii sports</td>\n",
       "      <td>Wii</td>\n",
       "      <td>2006</td>\n",
       "      <td>Sports</td>\n",
       "      <td>41.36</td>\n",
       "      <td>28.96</td>\n",
       "      <td>3.77</td>\n",
       "      <td>8.45</td>\n",
       "      <td>76.0</td>\n",
       "      <td>8.0</td>\n",
       "      <td>E</td>\n",
       "      <td>82.54</td>\n",
       "    </tr>\n",
       "    <tr>\n",
       "      <th>2</th>\n",
       "      <td>mario kart wii</td>\n",
       "      <td>Wii</td>\n",
       "      <td>2008</td>\n",
       "      <td>Racing</td>\n",
       "      <td>15.68</td>\n",
       "      <td>12.76</td>\n",
       "      <td>3.79</td>\n",
       "      <td>3.29</td>\n",
       "      <td>82.0</td>\n",
       "      <td>8.3</td>\n",
       "      <td>E</td>\n",
       "      <td>35.52</td>\n",
       "    </tr>\n",
       "    <tr>\n",
       "      <th>3</th>\n",
       "      <td>wii sports resort</td>\n",
       "      <td>Wii</td>\n",
       "      <td>2009</td>\n",
       "      <td>Sports</td>\n",
       "      <td>15.61</td>\n",
       "      <td>10.93</td>\n",
       "      <td>3.28</td>\n",
       "      <td>2.95</td>\n",
       "      <td>80.0</td>\n",
       "      <td>8.0</td>\n",
       "      <td>E</td>\n",
       "      <td>32.77</td>\n",
       "    </tr>\n",
       "    <tr>\n",
       "      <th>6</th>\n",
       "      <td>new super mario bros.</td>\n",
       "      <td>DS</td>\n",
       "      <td>2006</td>\n",
       "      <td>Platform</td>\n",
       "      <td>11.28</td>\n",
       "      <td>9.14</td>\n",
       "      <td>6.50</td>\n",
       "      <td>2.88</td>\n",
       "      <td>89.0</td>\n",
       "      <td>8.5</td>\n",
       "      <td>E</td>\n",
       "      <td>29.80</td>\n",
       "    </tr>\n",
       "    <tr>\n",
       "      <th>7</th>\n",
       "      <td>wii play</td>\n",
       "      <td>Wii</td>\n",
       "      <td>2006</td>\n",
       "      <td>Misc</td>\n",
       "      <td>13.96</td>\n",
       "      <td>9.18</td>\n",
       "      <td>2.93</td>\n",
       "      <td>2.84</td>\n",
       "      <td>58.0</td>\n",
       "      <td>6.6</td>\n",
       "      <td>E</td>\n",
       "      <td>28.91</td>\n",
       "    </tr>\n",
       "  </tbody>\n",
       "</table>\n",
       "</div>"
      ],
      "text/plain": [
       "                    name platform  year_of_release     genre  na_sales  \\\n",
       "0             wii sports      Wii             2006    Sports     41.36   \n",
       "2         mario kart wii      Wii             2008    Racing     15.68   \n",
       "3      wii sports resort      Wii             2009    Sports     15.61   \n",
       "6  new super mario bros.       DS             2006  Platform     11.28   \n",
       "7               wii play      Wii             2006      Misc     13.96   \n",
       "\n",
       "   eu_sales  jp_sales  other_sales  critic_score  user_score rating  \\\n",
       "0     28.96      3.77         8.45          76.0         8.0      E   \n",
       "2     12.76      3.79         3.29          82.0         8.3      E   \n",
       "3     10.93      3.28         2.95          80.0         8.0      E   \n",
       "6      9.14      6.50         2.88          89.0         8.5      E   \n",
       "7      9.18      2.93         2.84          58.0         6.6      E   \n",
       "\n",
       "   total_sales  \n",
       "0        82.54  \n",
       "2        35.52  \n",
       "3        32.77  \n",
       "6        29.80  \n",
       "7        28.91  "
      ]
     },
     "execution_count": 38,
     "metadata": {},
     "output_type": "execute_result"
    }
   ],
   "source": [
    "Greatest_platforms = platform.sort_values(by=\"total_sales\",ascending=False)[:6]\n",
    "Greatest_platforms = Greatest_platforms.index.tolist()\n",
    "selected_platforms = data.query(\"platform in @ Greatest_platforms\") \n",
    "selected_platforms.head()"
   ]
  },
  {
   "cell_type": "code",
   "execution_count": 39,
   "metadata": {
    "scrolled": false
   },
   "outputs": [
    {
     "data": {
      "text/html": [
       "<div>\n",
       "<style scoped>\n",
       "    .dataframe tbody tr th:only-of-type {\n",
       "        vertical-align: middle;\n",
       "    }\n",
       "\n",
       "    .dataframe tbody tr th {\n",
       "        vertical-align: top;\n",
       "    }\n",
       "\n",
       "    .dataframe thead th {\n",
       "        text-align: right;\n",
       "    }\n",
       "</style>\n",
       "<table border=\"1\" class=\"dataframe\">\n",
       "  <thead>\n",
       "    <tr style=\"text-align: right;\">\n",
       "      <th>platform</th>\n",
       "      <th>DS</th>\n",
       "      <th>PS</th>\n",
       "      <th>PS2</th>\n",
       "      <th>PS3</th>\n",
       "      <th>Wii</th>\n",
       "      <th>X360</th>\n",
       "    </tr>\n",
       "    <tr>\n",
       "      <th>year_of_release</th>\n",
       "      <th></th>\n",
       "      <th></th>\n",
       "      <th></th>\n",
       "      <th></th>\n",
       "      <th></th>\n",
       "      <th></th>\n",
       "    </tr>\n",
       "  </thead>\n",
       "  <tbody>\n",
       "    <tr>\n",
       "      <th>1985</th>\n",
       "      <td>0.02</td>\n",
       "      <td>NaN</td>\n",
       "      <td>NaN</td>\n",
       "      <td>NaN</td>\n",
       "      <td>NaN</td>\n",
       "      <td>NaN</td>\n",
       "    </tr>\n",
       "    <tr>\n",
       "      <th>1988</th>\n",
       "      <td>NaN</td>\n",
       "      <td>NaN</td>\n",
       "      <td>NaN</td>\n",
       "      <td>0.17</td>\n",
       "      <td>NaN</td>\n",
       "      <td>NaN</td>\n",
       "    </tr>\n",
       "    <tr>\n",
       "      <th>1989</th>\n",
       "      <td>NaN</td>\n",
       "      <td>NaN</td>\n",
       "      <td>0.17</td>\n",
       "      <td>NaN</td>\n",
       "      <td>NaN</td>\n",
       "      <td>NaN</td>\n",
       "    </tr>\n",
       "    <tr>\n",
       "      <th>1994</th>\n",
       "      <td>NaN</td>\n",
       "      <td>6.03</td>\n",
       "      <td>NaN</td>\n",
       "      <td>NaN</td>\n",
       "      <td>NaN</td>\n",
       "      <td>NaN</td>\n",
       "    </tr>\n",
       "    <tr>\n",
       "      <th>1995</th>\n",
       "      <td>NaN</td>\n",
       "      <td>35.96</td>\n",
       "      <td>NaN</td>\n",
       "      <td>NaN</td>\n",
       "      <td>NaN</td>\n",
       "      <td>NaN</td>\n",
       "    </tr>\n",
       "    <tr>\n",
       "      <th>1996</th>\n",
       "      <td>NaN</td>\n",
       "      <td>94.70</td>\n",
       "      <td>NaN</td>\n",
       "      <td>NaN</td>\n",
       "      <td>NaN</td>\n",
       "      <td>NaN</td>\n",
       "    </tr>\n",
       "    <tr>\n",
       "      <th>1997</th>\n",
       "      <td>NaN</td>\n",
       "      <td>136.17</td>\n",
       "      <td>NaN</td>\n",
       "      <td>NaN</td>\n",
       "      <td>NaN</td>\n",
       "      <td>NaN</td>\n",
       "    </tr>\n",
       "    <tr>\n",
       "      <th>1998</th>\n",
       "      <td>NaN</td>\n",
       "      <td>171.08</td>\n",
       "      <td>NaN</td>\n",
       "      <td>NaN</td>\n",
       "      <td>NaN</td>\n",
       "      <td>NaN</td>\n",
       "    </tr>\n",
       "    <tr>\n",
       "      <th>1999</th>\n",
       "      <td>NaN</td>\n",
       "      <td>145.58</td>\n",
       "      <td>NaN</td>\n",
       "      <td>NaN</td>\n",
       "      <td>NaN</td>\n",
       "      <td>NaN</td>\n",
       "    </tr>\n",
       "    <tr>\n",
       "      <th>2000</th>\n",
       "      <td>NaN</td>\n",
       "      <td>96.67</td>\n",
       "      <td>39.17</td>\n",
       "      <td>NaN</td>\n",
       "      <td>NaN</td>\n",
       "      <td>NaN</td>\n",
       "    </tr>\n",
       "    <tr>\n",
       "      <th>2001</th>\n",
       "      <td>NaN</td>\n",
       "      <td>35.93</td>\n",
       "      <td>166.82</td>\n",
       "      <td>NaN</td>\n",
       "      <td>NaN</td>\n",
       "      <td>NaN</td>\n",
       "    </tr>\n",
       "    <tr>\n",
       "      <th>2002</th>\n",
       "      <td>NaN</td>\n",
       "      <td>6.67</td>\n",
       "      <td>218.11</td>\n",
       "      <td>NaN</td>\n",
       "      <td>NaN</td>\n",
       "      <td>NaN</td>\n",
       "    </tr>\n",
       "    <tr>\n",
       "      <th>2003</th>\n",
       "      <td>NaN</td>\n",
       "      <td>2.07</td>\n",
       "      <td>189.55</td>\n",
       "      <td>NaN</td>\n",
       "      <td>NaN</td>\n",
       "      <td>NaN</td>\n",
       "    </tr>\n",
       "    <tr>\n",
       "      <th>2004</th>\n",
       "      <td>17.27</td>\n",
       "      <td>NaN</td>\n",
       "      <td>212.15</td>\n",
       "      <td>NaN</td>\n",
       "      <td>NaN</td>\n",
       "      <td>NaN</td>\n",
       "    </tr>\n",
       "    <tr>\n",
       "      <th>2005</th>\n",
       "      <td>130.23</td>\n",
       "      <td>NaN</td>\n",
       "      <td>160.91</td>\n",
       "      <td>NaN</td>\n",
       "      <td>NaN</td>\n",
       "      <td>9.10</td>\n",
       "    </tr>\n",
       "    <tr>\n",
       "      <th>2006</th>\n",
       "      <td>119.87</td>\n",
       "      <td>NaN</td>\n",
       "      <td>104.33</td>\n",
       "      <td>20.96</td>\n",
       "      <td>140.19</td>\n",
       "      <td>51.80</td>\n",
       "    </tr>\n",
       "    <tr>\n",
       "      <th>2007</th>\n",
       "      <td>147.25</td>\n",
       "      <td>NaN</td>\n",
       "      <td>77.22</td>\n",
       "      <td>74.81</td>\n",
       "      <td>155.47</td>\n",
       "      <td>97.88</td>\n",
       "    </tr>\n",
       "    <tr>\n",
       "      <th>2008</th>\n",
       "      <td>146.77</td>\n",
       "      <td>NaN</td>\n",
       "      <td>53.90</td>\n",
       "      <td>119.17</td>\n",
       "      <td>174.65</td>\n",
       "      <td>136.50</td>\n",
       "    </tr>\n",
       "    <tr>\n",
       "      <th>2009</th>\n",
       "      <td>119.82</td>\n",
       "      <td>NaN</td>\n",
       "      <td>26.40</td>\n",
       "      <td>130.93</td>\n",
       "      <td>211.06</td>\n",
       "      <td>120.82</td>\n",
       "    </tr>\n",
       "    <tr>\n",
       "      <th>2010</th>\n",
       "      <td>85.35</td>\n",
       "      <td>NaN</td>\n",
       "      <td>6.59</td>\n",
       "      <td>143.94</td>\n",
       "      <td>129.63</td>\n",
       "      <td>170.89</td>\n",
       "    </tr>\n",
       "    <tr>\n",
       "      <th>2011</th>\n",
       "      <td>26.89</td>\n",
       "      <td>NaN</td>\n",
       "      <td>0.45</td>\n",
       "      <td>160.81</td>\n",
       "      <td>61.14</td>\n",
       "      <td>147.82</td>\n",
       "    </tr>\n",
       "    <tr>\n",
       "      <th>2012</th>\n",
       "      <td>11.07</td>\n",
       "      <td>NaN</td>\n",
       "      <td>NaN</td>\n",
       "      <td>107.43</td>\n",
       "      <td>21.71</td>\n",
       "      <td>99.81</td>\n",
       "    </tr>\n",
       "    <tr>\n",
       "      <th>2013</th>\n",
       "      <td>1.54</td>\n",
       "      <td>NaN</td>\n",
       "      <td>NaN</td>\n",
       "      <td>113.25</td>\n",
       "      <td>8.59</td>\n",
       "      <td>88.58</td>\n",
       "    </tr>\n",
       "    <tr>\n",
       "      <th>2014</th>\n",
       "      <td>NaN</td>\n",
       "      <td>NaN</td>\n",
       "      <td>NaN</td>\n",
       "      <td>47.76</td>\n",
       "      <td>3.75</td>\n",
       "      <td>34.74</td>\n",
       "    </tr>\n",
       "    <tr>\n",
       "      <th>2015</th>\n",
       "      <td>NaN</td>\n",
       "      <td>NaN</td>\n",
       "      <td>NaN</td>\n",
       "      <td>16.82</td>\n",
       "      <td>1.14</td>\n",
       "      <td>11.96</td>\n",
       "    </tr>\n",
       "    <tr>\n",
       "      <th>2016</th>\n",
       "      <td>NaN</td>\n",
       "      <td>NaN</td>\n",
       "      <td>NaN</td>\n",
       "      <td>3.60</td>\n",
       "      <td>0.18</td>\n",
       "      <td>1.52</td>\n",
       "    </tr>\n",
       "  </tbody>\n",
       "</table>\n",
       "</div>"
      ],
      "text/plain": [
       "platform             DS      PS     PS2     PS3     Wii    X360\n",
       "year_of_release                                                \n",
       "1985               0.02     NaN     NaN     NaN     NaN     NaN\n",
       "1988                NaN     NaN     NaN    0.17     NaN     NaN\n",
       "1989                NaN     NaN    0.17     NaN     NaN     NaN\n",
       "1994                NaN    6.03     NaN     NaN     NaN     NaN\n",
       "1995                NaN   35.96     NaN     NaN     NaN     NaN\n",
       "1996                NaN   94.70     NaN     NaN     NaN     NaN\n",
       "1997                NaN  136.17     NaN     NaN     NaN     NaN\n",
       "1998                NaN  171.08     NaN     NaN     NaN     NaN\n",
       "1999                NaN  145.58     NaN     NaN     NaN     NaN\n",
       "2000                NaN   96.67   39.17     NaN     NaN     NaN\n",
       "2001                NaN   35.93  166.82     NaN     NaN     NaN\n",
       "2002                NaN    6.67  218.11     NaN     NaN     NaN\n",
       "2003                NaN    2.07  189.55     NaN     NaN     NaN\n",
       "2004              17.27     NaN  212.15     NaN     NaN     NaN\n",
       "2005             130.23     NaN  160.91     NaN     NaN    9.10\n",
       "2006             119.87     NaN  104.33   20.96  140.19   51.80\n",
       "2007             147.25     NaN   77.22   74.81  155.47   97.88\n",
       "2008             146.77     NaN   53.90  119.17  174.65  136.50\n",
       "2009             119.82     NaN   26.40  130.93  211.06  120.82\n",
       "2010              85.35     NaN    6.59  143.94  129.63  170.89\n",
       "2011              26.89     NaN    0.45  160.81   61.14  147.82\n",
       "2012              11.07     NaN     NaN  107.43   21.71   99.81\n",
       "2013               1.54     NaN     NaN  113.25    8.59   88.58\n",
       "2014                NaN     NaN     NaN   47.76    3.75   34.74\n",
       "2015                NaN     NaN     NaN   16.82    1.14   11.96\n",
       "2016                NaN     NaN     NaN    3.60    0.18    1.52"
      ]
     },
     "execution_count": 39,
     "metadata": {},
     "output_type": "execute_result"
    }
   ],
   "source": [
    "selected_platform = selected_platforms.pivot_table(index=\"year_of_release\", values= \"total_sales\", columns = \"platform\", aggfunc= \"sum\")\n",
    "selected_platform"
   ]
  },
  {
   "cell_type": "code",
   "execution_count": 40,
   "metadata": {
    "scrolled": false
   },
   "outputs": [
    {
     "data": {
      "image/png": "[encoded data removed]",
      "text/plain": [
       "<Figure size 1008x432 with 1 Axes>"
      ]
     },
     "metadata": {
      "needs_background": "light"
     },
     "output_type": "display_data"
    }
   ],
   "source": [
    "fig, ax = plt.subplots(figsize=(14,6))\n",
    "selected_platform.plot(kind = \"line\", use_index= True, ax=ax)\n",
    "ax.set_title(\"Trend of Platforms' Total Sales\", fontdict={\"size\":14})\n",
    "plt.xlabel(\"Year of Release\", fontdict={\"size\":14})\n",
    "plt.ylabel(\"Total Sales\", fontdict={\"size\":14})\n",
    "plt.show()"
   ]
  },
  {
   "cell_type": "markdown",
   "metadata": {},
   "source": [
    "PS dominated the games market in the 1990s and early 2000s but now have zero sales. PS2 tookover from the early 2000 and dominated the market till after 2005, i.e. when Nintendo DS and Wii plaforms tookover. PS, PS2, and Nintendo DS used to be popular platforms but now have zero sales."
   ]
  },
  {
   "cell_type": "markdown",
   "metadata": {},
   "source": [
    "**How long does it generally take for new platforms to appear and old ones to fade?**\n",
    "\n",
    "I will create a dataframe that includes the initial year games were released, the last year it existed,the duration of their existence, and a count of the years each platform ever made sales (when a platform does not make sales any longer, it is assumed to has faded). "
   ]
  },
  {
   "cell_type": "code",
   "execution_count": 41,
   "metadata": {
    "scrolled": false
   },
   "outputs": [
    {
     "data": {
      "text/html": [
       "<div>\n",
       "<style scoped>\n",
       "    .dataframe tbody tr th:only-of-type {\n",
       "        vertical-align: middle;\n",
       "    }\n",
       "\n",
       "    .dataframe tbody tr th {\n",
       "        vertical-align: top;\n",
       "    }\n",
       "\n",
       "    .dataframe thead th {\n",
       "        text-align: right;\n",
       "    }\n",
       "</style>\n",
       "<table border=\"1\" class=\"dataframe\">\n",
       "  <thead>\n",
       "    <tr style=\"text-align: right;\">\n",
       "      <th></th>\n",
       "      <th>platform</th>\n",
       "      <th>initial_year</th>\n",
       "      <th>last_year</th>\n",
       "      <th>duration</th>\n",
       "      <th>sales_count</th>\n",
       "    </tr>\n",
       "  </thead>\n",
       "  <tbody>\n",
       "    <tr>\n",
       "      <th>0</th>\n",
       "      <td>2600</td>\n",
       "      <td>1977</td>\n",
       "      <td>2012</td>\n",
       "      <td>35</td>\n",
       "      <td>16</td>\n",
       "    </tr>\n",
       "    <tr>\n",
       "      <th>1</th>\n",
       "      <td>NES</td>\n",
       "      <td>1983</td>\n",
       "      <td>1994</td>\n",
       "      <td>11</td>\n",
       "      <td>12</td>\n",
       "    </tr>\n",
       "    <tr>\n",
       "      <th>2</th>\n",
       "      <td>DS</td>\n",
       "      <td>1985</td>\n",
       "      <td>2013</td>\n",
       "      <td>28</td>\n",
       "      <td>11</td>\n",
       "    </tr>\n",
       "    <tr>\n",
       "      <th>3</th>\n",
       "      <td>PC</td>\n",
       "      <td>1985</td>\n",
       "      <td>2016</td>\n",
       "      <td>31</td>\n",
       "      <td>26</td>\n",
       "    </tr>\n",
       "    <tr>\n",
       "      <th>4</th>\n",
       "      <td>GB</td>\n",
       "      <td>1988</td>\n",
       "      <td>2001</td>\n",
       "      <td>13</td>\n",
       "      <td>13</td>\n",
       "    </tr>\n",
       "    <tr>\n",
       "      <th>5</th>\n",
       "      <td>PS3</td>\n",
       "      <td>1988</td>\n",
       "      <td>2016</td>\n",
       "      <td>28</td>\n",
       "      <td>12</td>\n",
       "    </tr>\n",
       "    <tr>\n",
       "      <th>6</th>\n",
       "      <td>PS2</td>\n",
       "      <td>1989</td>\n",
       "      <td>2011</td>\n",
       "      <td>22</td>\n",
       "      <td>13</td>\n",
       "    </tr>\n",
       "    <tr>\n",
       "      <th>7</th>\n",
       "      <td>SNES</td>\n",
       "      <td>1990</td>\n",
       "      <td>1999</td>\n",
       "      <td>9</td>\n",
       "      <td>10</td>\n",
       "    </tr>\n",
       "    <tr>\n",
       "      <th>8</th>\n",
       "      <td>GEN</td>\n",
       "      <td>1990</td>\n",
       "      <td>1994</td>\n",
       "      <td>4</td>\n",
       "      <td>5</td>\n",
       "    </tr>\n",
       "    <tr>\n",
       "      <th>9</th>\n",
       "      <td>GG</td>\n",
       "      <td>1992</td>\n",
       "      <td>1992</td>\n",
       "      <td>0</td>\n",
       "      <td>1</td>\n",
       "    </tr>\n",
       "    <tr>\n",
       "      <th>10</th>\n",
       "      <td>SCD</td>\n",
       "      <td>1993</td>\n",
       "      <td>1994</td>\n",
       "      <td>1</td>\n",
       "      <td>2</td>\n",
       "    </tr>\n",
       "    <tr>\n",
       "      <th>11</th>\n",
       "      <td>NG</td>\n",
       "      <td>1993</td>\n",
       "      <td>1996</td>\n",
       "      <td>3</td>\n",
       "      <td>4</td>\n",
       "    </tr>\n",
       "    <tr>\n",
       "      <th>12</th>\n",
       "      <td>SAT</td>\n",
       "      <td>1994</td>\n",
       "      <td>1999</td>\n",
       "      <td>5</td>\n",
       "      <td>6</td>\n",
       "    </tr>\n",
       "    <tr>\n",
       "      <th>13</th>\n",
       "      <td>PS</td>\n",
       "      <td>1994</td>\n",
       "      <td>2003</td>\n",
       "      <td>9</td>\n",
       "      <td>10</td>\n",
       "    </tr>\n",
       "    <tr>\n",
       "      <th>14</th>\n",
       "      <td>3DO</td>\n",
       "      <td>1994</td>\n",
       "      <td>1995</td>\n",
       "      <td>1</td>\n",
       "      <td>2</td>\n",
       "    </tr>\n",
       "    <tr>\n",
       "      <th>15</th>\n",
       "      <td>TG16</td>\n",
       "      <td>1995</td>\n",
       "      <td>1995</td>\n",
       "      <td>0</td>\n",
       "      <td>1</td>\n",
       "    </tr>\n",
       "    <tr>\n",
       "      <th>16</th>\n",
       "      <td>PCFX</td>\n",
       "      <td>1996</td>\n",
       "      <td>1996</td>\n",
       "      <td>0</td>\n",
       "      <td>1</td>\n",
       "    </tr>\n",
       "    <tr>\n",
       "      <th>17</th>\n",
       "      <td>N64</td>\n",
       "      <td>1996</td>\n",
       "      <td>2004</td>\n",
       "      <td>8</td>\n",
       "      <td>8</td>\n",
       "    </tr>\n",
       "    <tr>\n",
       "      <th>18</th>\n",
       "      <td>DC</td>\n",
       "      <td>1998</td>\n",
       "      <td>2008</td>\n",
       "      <td>10</td>\n",
       "      <td>7</td>\n",
       "    </tr>\n",
       "    <tr>\n",
       "      <th>19</th>\n",
       "      <td>WS</td>\n",
       "      <td>1999</td>\n",
       "      <td>2001</td>\n",
       "      <td>2</td>\n",
       "      <td>3</td>\n",
       "    </tr>\n",
       "    <tr>\n",
       "      <th>20</th>\n",
       "      <td>XB</td>\n",
       "      <td>2000</td>\n",
       "      <td>2008</td>\n",
       "      <td>8</td>\n",
       "      <td>9</td>\n",
       "    </tr>\n",
       "    <tr>\n",
       "      <th>21</th>\n",
       "      <td>GBA</td>\n",
       "      <td>2000</td>\n",
       "      <td>2016</td>\n",
       "      <td>16</td>\n",
       "      <td>9</td>\n",
       "    </tr>\n",
       "    <tr>\n",
       "      <th>22</th>\n",
       "      <td>GC</td>\n",
       "      <td>2001</td>\n",
       "      <td>2007</td>\n",
       "      <td>6</td>\n",
       "      <td>7</td>\n",
       "    </tr>\n",
       "    <tr>\n",
       "      <th>23</th>\n",
       "      <td>PSP</td>\n",
       "      <td>2004</td>\n",
       "      <td>2015</td>\n",
       "      <td>11</td>\n",
       "      <td>12</td>\n",
       "    </tr>\n",
       "    <tr>\n",
       "      <th>24</th>\n",
       "      <td>X360</td>\n",
       "      <td>2005</td>\n",
       "      <td>2016</td>\n",
       "      <td>11</td>\n",
       "      <td>12</td>\n",
       "    </tr>\n",
       "    <tr>\n",
       "      <th>25</th>\n",
       "      <td>Wii</td>\n",
       "      <td>2006</td>\n",
       "      <td>2016</td>\n",
       "      <td>10</td>\n",
       "      <td>11</td>\n",
       "    </tr>\n",
       "    <tr>\n",
       "      <th>26</th>\n",
       "      <td>3DS</td>\n",
       "      <td>2010</td>\n",
       "      <td>2016</td>\n",
       "      <td>6</td>\n",
       "      <td>7</td>\n",
       "    </tr>\n",
       "    <tr>\n",
       "      <th>27</th>\n",
       "      <td>PSV</td>\n",
       "      <td>2011</td>\n",
       "      <td>2016</td>\n",
       "      <td>5</td>\n",
       "      <td>6</td>\n",
       "    </tr>\n",
       "    <tr>\n",
       "      <th>28</th>\n",
       "      <td>WiiU</td>\n",
       "      <td>2012</td>\n",
       "      <td>2016</td>\n",
       "      <td>4</td>\n",
       "      <td>5</td>\n",
       "    </tr>\n",
       "    <tr>\n",
       "      <th>29</th>\n",
       "      <td>PS4</td>\n",
       "      <td>2013</td>\n",
       "      <td>2016</td>\n",
       "      <td>3</td>\n",
       "      <td>4</td>\n",
       "    </tr>\n",
       "    <tr>\n",
       "      <th>30</th>\n",
       "      <td>XOne</td>\n",
       "      <td>2013</td>\n",
       "      <td>2016</td>\n",
       "      <td>3</td>\n",
       "      <td>4</td>\n",
       "    </tr>\n",
       "  </tbody>\n",
       "</table>\n",
       "</div>"
      ],
      "text/plain": [
       "   platform  initial_year  last_year  duration  sales_count\n",
       "0      2600          1977       2012        35           16\n",
       "1       NES          1983       1994        11           12\n",
       "2        DS          1985       2013        28           11\n",
       "3        PC          1985       2016        31           26\n",
       "4        GB          1988       2001        13           13\n",
       "5       PS3          1988       2016        28           12\n",
       "6       PS2          1989       2011        22           13\n",
       "7      SNES          1990       1999         9           10\n",
       "8       GEN          1990       1994         4            5\n",
       "9        GG          1992       1992         0            1\n",
       "10      SCD          1993       1994         1            2\n",
       "11       NG          1993       1996         3            4\n",
       "12      SAT          1994       1999         5            6\n",
       "13       PS          1994       2003         9           10\n",
       "14      3DO          1994       1995         1            2\n",
       "15     TG16          1995       1995         0            1\n",
       "16     PCFX          1996       1996         0            1\n",
       "17      N64          1996       2004         8            8\n",
       "18       DC          1998       2008        10            7\n",
       "19       WS          1999       2001         2            3\n",
       "20       XB          2000       2008         8            9\n",
       "21      GBA          2000       2016        16            9\n",
       "22       GC          2001       2007         6            7\n",
       "23      PSP          2004       2015        11           12\n",
       "24     X360          2005       2016        11           12\n",
       "25      Wii          2006       2016        10           11\n",
       "26      3DS          2010       2016         6            7\n",
       "27      PSV          2011       2016         5            6\n",
       "28     WiiU          2012       2016         4            5\n",
       "29      PS4          2013       2016         3            4\n",
       "30     XOne          2013       2016         3            4"
      ]
     },
     "execution_count": 41,
     "metadata": {},
     "output_type": "execute_result"
    }
   ],
   "source": [
    "first_release= data.pivot_table(index='platform',values ='year_of_release',aggfunc='min').reset_index()\\\n",
    ".sort_values(by='year_of_release').rename(columns={\"year_of_release\":\"initial_year\"})\n",
    "\n",
    "last_existed = data.pivot_table(index='platform',values ='year_of_release',aggfunc='max').reset_index()\\\n",
    ".sort_values(by='year_of_release').rename(columns={\"year_of_release\":\"last_year\"})\n",
    "\n",
    "platform_sales= data.pivot_table(index=\"year_of_release\", columns='platform',values ='total_sales',aggfunc='sum')\n",
    "sales_year_count=platform_sales.apply(lambda column: (column.notnull()).sum())\n",
    "sales_year_count_df = pd.DataFrame({\"platform\": sales_year_count.index,'sales_count':sales_year_count.values})\n",
    "\n",
    "platform_df=pd.merge(first_release,last_existed, on='platform')\n",
    "platform_df[\"duration\"] = platform_df[\"last_year\"] - platform_df[\"initial_year\"]\n",
    "platform_df1= pd.merge(platform_df, sales_year_count_df,on='platform')\n",
    "\n",
    "platform_df1"
   ]
  },
  {
   "cell_type": "code",
   "execution_count": 42,
   "metadata": {
    "scrolled": false
   },
   "outputs": [
    {
     "data": {
      "text/plain": [
       "8"
      ]
     },
     "execution_count": 42,
     "metadata": {},
     "output_type": "execute_result"
    }
   ],
   "source": [
    "round(platform_df1[\"sales_count\"].mean())"
   ]
  },
  {
   "cell_type": "markdown",
   "metadata": {},
   "source": [
    "Glacing through the initial years of release column, it can be seen that from 1988 to 2013, in majority of the years, \n",
    "there were release of games and a few gaps in years. A good number of the years also have at least two games released. I can therefore conclude that generally, it takes about a year or less for new platforms to appear. An average of the sales\n",
    "count each year on platforms showed that on average, old plaforms take about 8 years to fade. Considering the lifespan of a plaform, Atari 2600 plaform existed for the longest number of years (35). "
   ]
  },
  {
   "cell_type": "markdown",
   "metadata": {},
   "source": [
    "**Determining what period to take data for to help build a prognosis for 2017.**\n",
    "\n",
    "Considering that the number of games released in a year peaked in 2008 and only significantly started falling from 2010 onwards, I will take data from 2010 as there is a trend that would help build prognosis for 2017."
   ]
  },
  {
   "cell_type": "code",
   "execution_count": 43,
   "metadata": {
    "scrolled": false
   },
   "outputs": [
    {
     "data": {
      "text/html": [
       "<div>\n",
       "<style scoped>\n",
       "    .dataframe tbody tr th:only-of-type {\n",
       "        vertical-align: middle;\n",
       "    }\n",
       "\n",
       "    .dataframe tbody tr th {\n",
       "        vertical-align: top;\n",
       "    }\n",
       "\n",
       "    .dataframe thead th {\n",
       "        text-align: right;\n",
       "    }\n",
       "</style>\n",
       "<table border=\"1\" class=\"dataframe\">\n",
       "  <thead>\n",
       "    <tr style=\"text-align: right;\">\n",
       "      <th></th>\n",
       "      <th>name</th>\n",
       "      <th>platform</th>\n",
       "      <th>year_of_release</th>\n",
       "      <th>genre</th>\n",
       "      <th>na_sales</th>\n",
       "      <th>eu_sales</th>\n",
       "      <th>jp_sales</th>\n",
       "      <th>other_sales</th>\n",
       "      <th>critic_score</th>\n",
       "      <th>user_score</th>\n",
       "      <th>rating</th>\n",
       "      <th>total_sales</th>\n",
       "    </tr>\n",
       "  </thead>\n",
       "  <tbody>\n",
       "    <tr>\n",
       "      <th>14</th>\n",
       "      <td>kinect adventures!</td>\n",
       "      <td>X360</td>\n",
       "      <td>2010</td>\n",
       "      <td>Misc</td>\n",
       "      <td>15.00</td>\n",
       "      <td>4.89</td>\n",
       "      <td>0.24</td>\n",
       "      <td>1.69</td>\n",
       "      <td>61.0</td>\n",
       "      <td>6.3</td>\n",
       "      <td>E</td>\n",
       "      <td>21.82</td>\n",
       "    </tr>\n",
       "    <tr>\n",
       "      <th>16</th>\n",
       "      <td>grand theft auto v</td>\n",
       "      <td>PS3</td>\n",
       "      <td>2013</td>\n",
       "      <td>Action</td>\n",
       "      <td>7.02</td>\n",
       "      <td>9.09</td>\n",
       "      <td>0.98</td>\n",
       "      <td>3.96</td>\n",
       "      <td>97.0</td>\n",
       "      <td>8.2</td>\n",
       "      <td>M</td>\n",
       "      <td>21.05</td>\n",
       "    </tr>\n",
       "    <tr>\n",
       "      <th>23</th>\n",
       "      <td>grand theft auto v</td>\n",
       "      <td>X360</td>\n",
       "      <td>2013</td>\n",
       "      <td>Action</td>\n",
       "      <td>9.66</td>\n",
       "      <td>5.14</td>\n",
       "      <td>0.06</td>\n",
       "      <td>1.41</td>\n",
       "      <td>97.0</td>\n",
       "      <td>8.1</td>\n",
       "      <td>M</td>\n",
       "      <td>16.27</td>\n",
       "    </tr>\n",
       "    <tr>\n",
       "      <th>27</th>\n",
       "      <td>pokemon black/pokemon white</td>\n",
       "      <td>DS</td>\n",
       "      <td>2010</td>\n",
       "      <td>Role-Playing</td>\n",
       "      <td>5.51</td>\n",
       "      <td>3.17</td>\n",
       "      <td>5.65</td>\n",
       "      <td>0.80</td>\n",
       "      <td>NaN</td>\n",
       "      <td>NaN</td>\n",
       "      <td>NaN</td>\n",
       "      <td>15.13</td>\n",
       "    </tr>\n",
       "    <tr>\n",
       "      <th>29</th>\n",
       "      <td>call of duty: modern warfare 3</td>\n",
       "      <td>X360</td>\n",
       "      <td>2011</td>\n",
       "      <td>Shooter</td>\n",
       "      <td>9.04</td>\n",
       "      <td>4.24</td>\n",
       "      <td>0.13</td>\n",
       "      <td>1.32</td>\n",
       "      <td>88.0</td>\n",
       "      <td>3.4</td>\n",
       "      <td>M</td>\n",
       "      <td>14.73</td>\n",
       "    </tr>\n",
       "  </tbody>\n",
       "</table>\n",
       "</div>"
      ],
      "text/plain": [
       "                              name platform  year_of_release         genre  \\\n",
       "14              kinect adventures!     X360             2010          Misc   \n",
       "16              grand theft auto v      PS3             2013        Action   \n",
       "23              grand theft auto v     X360             2013        Action   \n",
       "27     pokemon black/pokemon white       DS             2010  Role-Playing   \n",
       "29  call of duty: modern warfare 3     X360             2011       Shooter   \n",
       "\n",
       "    na_sales  eu_sales  jp_sales  other_sales  critic_score  user_score  \\\n",
       "14     15.00      4.89      0.24         1.69          61.0         6.3   \n",
       "16      7.02      9.09      0.98         3.96          97.0         8.2   \n",
       "23      9.66      5.14      0.06         1.41          97.0         8.1   \n",
       "27      5.51      3.17      5.65         0.80           NaN         NaN   \n",
       "29      9.04      4.24      0.13         1.32          88.0         3.4   \n",
       "\n",
       "   rating  total_sales  \n",
       "14      E        21.82  \n",
       "16      M        21.05  \n",
       "23      M        16.27  \n",
       "27    NaN        15.13  \n",
       "29      M        14.73  "
      ]
     },
     "execution_count": 43,
     "metadata": {},
     "output_type": "execute_result"
    }
   ],
   "source": [
    "relevant_data=data.query(\"year_of_release >= 2010\")\n",
    "relevant_data.head()"
   ]
  },
  {
   "cell_type": "markdown",
   "metadata": {},
   "source": [
    "Platforms leading in sales"
   ]
  },
  {
   "cell_type": "code",
   "execution_count": 44,
   "metadata": {},
   "outputs": [
    {
     "data": {
      "image/png": "[encoded data removed]",
      "text/plain": [
       "<Figure size 864x576 with 1 Axes>"
      ]
     },
     "metadata": {
      "needs_background": "light"
     },
     "output_type": "display_data"
    }
   ],
   "source": [
    "high_sales = relevant_data.pivot_table(index = \"platform\", values = \"total_sales\", aggfunc=\"sum\")\n",
    "fig, ax = plt.subplots()\n",
    "fig.set_size_inches(12,8)\n",
    "sns.barplot(x=high_sales.index, y= \"total_sales\", data=high_sales)  \n",
    "ax.set_title(\"Platforms Leading in Sales\", fontdict={\"size\":14})\n",
    "plt.xlabel(\"Platform\", fontdict={\"size\":14})\n",
    "plt.ylabel(\"Total Sales\", fontdict={\"size\":14})\n",
    "plt.show()"
   ]
  },
  {
   "cell_type": "markdown",
   "metadata": {},
   "source": [
    "The most profitable platforms are 'PS3', '3DS', 'DS',  'PC',   'PS4', 'Wii', 'X360',  and 'XOne'.\n",
    "'PS3' and 'X360' are leading in sales."
   ]
  },
  {
   "cell_type": "markdown",
   "metadata": {},
   "source": [
    "Which plaforms are growing or shrinking?"
   ]
  },
  {
   "cell_type": "code",
   "execution_count": 45,
   "metadata": {
    "scrolled": false
   },
   "outputs": [
    {
     "data": {
      "image/png": "[encoded data removed]",
      "text/plain": [
       "<Figure size 1008x504 with 1 Axes>"
      ]
     },
     "metadata": {
      "needs_background": "light"
     },
     "output_type": "display_data"
    }
   ],
   "source": [
    "platform_trend= relevant_data.pivot_table(index=\"year_of_release\", values= \"total_sales\",columns=\"platform\", aggfunc=\"sum\")\n",
    "fig, ax = plt.subplots(figsize=(14,7))\n",
    "platform_trend.plot(kind = \"line\", use_index= True, ax=ax)\n",
    "ax.set_title(\"Platforms Growing or Shrinking\", fontdict={\"size\":14})\n",
    "plt.xlabel(\"Year of Release\", fontdict={\"size\":14})\n",
    "plt.ylabel(\"Total Sales\", fontdict={\"size\":14})\n",
    "plt.show()"
   ]
  },
  {
   "cell_type": "markdown",
   "metadata": {
    "scrolled": false
   },
   "source": [
    "In 2016, all plaforms had experienced their peak sales and started shrinking, but PS4, XOne, and 3DS were leading \n",
    "in sales.\n"
   ]
  },
  {
   "cell_type": "markdown",
   "metadata": {},
   "source": [
    "Building a boxplot for the global sales of all games, broken down by platform"
   ]
  },
  {
   "cell_type": "code",
   "execution_count": 46,
   "metadata": {
    "scrolled": false
   },
   "outputs": [
    {
     "data": {
      "image/png": "[encoded data removed]",
      "text/plain": [
       "<Figure size 864x504 with 1 Axes>"
      ]
     },
     "metadata": {
      "needs_background": "light"
     },
     "output_type": "display_data"
    }
   ],
   "source": [
    "fig, ax = plt.subplots()\n",
    "fig.set_size_inches(12,7)\n",
    "sns.boxplot(x=\"platform\",y=\"total_sales\", data = relevant_data)\n",
    "ax.set_title(\"Boxplot for the Global Sale of all Games\", fontdict={\"size\":14})\n",
    "plt.xlabel(\"Platform\", fontdict={\"size\":14})\n",
    "plt.ylabel(\"Total Sales\", fontdict={\"size\":14})\n",
    "plt.show()"
   ]
  },
  {
   "cell_type": "markdown",
   "metadata": {},
   "source": [
    "The boxes look small due to enormous existence of outliers in the data. I will remove outliers and replot the graph."
   ]
  },
  {
   "cell_type": "code",
   "execution_count": 47,
   "metadata": {
    "scrolled": false
   },
   "outputs": [
    {
     "data": {
      "image/png": "[encoded data removed]",
      "text/plain": [
       "<Figure size 864x576 with 1 Axes>"
      ]
     },
     "metadata": {
      "needs_background": "light"
     },
     "output_type": "display_data"
    }
   ],
   "source": [
    "relevant_data_filter=relevant_data.query(\"platform != 'GBA' & platform != '2600'\")# droping bottom sales platforms\n",
    "Q1 = relevant_data_filter[\"total_sales\"].quantile(0.25)\n",
    "Q3 = relevant_data_filter[\"total_sales\"].quantile(0.75)\n",
    "IQR = Q3 - Q1\n",
    "\n",
    "filtered_platforms = relevant_data_filter[relevant_data_filter[\"total_sales\"] < (Q3 + 1.5 * IQR)]\n",
    "\n",
    "fig, ax = plt.subplots()\n",
    "fig.set_size_inches(12,8)\n",
    "sns.boxplot(x=\"platform\",y=\"total_sales\", data = filtered_platforms)\n",
    "ax.set_title(\"Boxplot for the Global Sale of all Games\", fontdict={\"size\":14})\n",
    "plt.xlabel(\"Platform\", fontdict={\"size\":14})\n",
    "plt.ylabel(\"Total Sales\", fontdict={\"size\":14})\n",
    "plt.show()"
   ]
  },
  {
   "cell_type": "markdown",
   "metadata": {},
   "source": [
    "Differences in sales do not differ much as the median values across plaforms all below USD 0.2 million. Howevet, the middle half values for PS3, X360, XOne, WiiU, and PS4 are the largest compared to the others. X360 has the highest median sales value. PSP and PSV has the lowest median values."
   ]
  },
  {
   "cell_type": "markdown",
   "metadata": {},
   "source": [
    "Average sales on various platforms "
   ]
  },
  {
   "cell_type": "code",
   "execution_count": 48,
   "metadata": {},
   "outputs": [
    {
     "data": {
      "text/html": [
       "<div>\n",
       "<style scoped>\n",
       "    .dataframe tbody tr th:only-of-type {\n",
       "        vertical-align: middle;\n",
       "    }\n",
       "\n",
       "    .dataframe tbody tr th {\n",
       "        vertical-align: top;\n",
       "    }\n",
       "\n",
       "    .dataframe thead th {\n",
       "        text-align: right;\n",
       "    }\n",
       "</style>\n",
       "<table border=\"1\" class=\"dataframe\">\n",
       "  <thead>\n",
       "    <tr style=\"text-align: right;\">\n",
       "      <th></th>\n",
       "      <th>platform</th>\n",
       "      <th>average_sales</th>\n",
       "    </tr>\n",
       "  </thead>\n",
       "  <tbody>\n",
       "    <tr>\n",
       "      <th>0</th>\n",
       "      <td>2600</td>\n",
       "      <td>0.460000</td>\n",
       "    </tr>\n",
       "    <tr>\n",
       "      <th>1</th>\n",
       "      <td>3DS</td>\n",
       "      <td>0.498077</td>\n",
       "    </tr>\n",
       "    <tr>\n",
       "      <th>2</th>\n",
       "      <td>DS</td>\n",
       "      <td>0.244325</td>\n",
       "    </tr>\n",
       "    <tr>\n",
       "      <th>3</th>\n",
       "      <td>GBA</td>\n",
       "      <td>0.050000</td>\n",
       "    </tr>\n",
       "    <tr>\n",
       "      <th>4</th>\n",
       "      <td>PC</td>\n",
       "      <td>0.254207</td>\n",
       "    </tr>\n",
       "    <tr>\n",
       "      <th>5</th>\n",
       "      <td>PS2</td>\n",
       "      <td>0.153043</td>\n",
       "    </tr>\n",
       "    <tr>\n",
       "      <th>6</th>\n",
       "      <td>PS3</td>\n",
       "      <td>0.652319</td>\n",
       "    </tr>\n",
       "    <tr>\n",
       "      <th>7</th>\n",
       "      <td>PS4</td>\n",
       "      <td>0.801378</td>\n",
       "    </tr>\n",
       "    <tr>\n",
       "      <th>8</th>\n",
       "      <td>PSP</td>\n",
       "      <td>0.128586</td>\n",
       "    </tr>\n",
       "    <tr>\n",
       "      <th>9</th>\n",
       "      <td>PSV</td>\n",
       "      <td>0.125744</td>\n",
       "    </tr>\n",
       "    <tr>\n",
       "      <th>10</th>\n",
       "      <td>Wii</td>\n",
       "      <td>0.489481</td>\n",
       "    </tr>\n",
       "    <tr>\n",
       "      <th>11</th>\n",
       "      <td>WiiU</td>\n",
       "      <td>0.559116</td>\n",
       "    </tr>\n",
       "    <tr>\n",
       "      <th>12</th>\n",
       "      <td>X360</td>\n",
       "      <td>0.792183</td>\n",
       "    </tr>\n",
       "    <tr>\n",
       "      <th>13</th>\n",
       "      <td>XOne</td>\n",
       "      <td>0.645020</td>\n",
       "    </tr>\n",
       "  </tbody>\n",
       "</table>\n",
       "</div>"
      ],
      "text/plain": [
       "   platform  average_sales\n",
       "0      2600       0.460000\n",
       "1       3DS       0.498077\n",
       "2        DS       0.244325\n",
       "3       GBA       0.050000\n",
       "4        PC       0.254207\n",
       "5       PS2       0.153043\n",
       "6       PS3       0.652319\n",
       "7       PS4       0.801378\n",
       "8       PSP       0.128586\n",
       "9       PSV       0.125744\n",
       "10      Wii       0.489481\n",
       "11     WiiU       0.559116\n",
       "12     X360       0.792183\n",
       "13     XOne       0.645020"
      ]
     },
     "execution_count": 48,
     "metadata": {},
     "output_type": "execute_result"
    }
   ],
   "source": [
    "average_sales=relevant_data.pivot_table(index=\"platform\",values=\"total_sales\").reset_index().rename(columns={\"total_sales\":\"average_sales\"})\n",
    "average_sales"
   ]
  },
  {
   "cell_type": "markdown",
   "metadata": {},
   "source": [
    "Average sales on various platforms also differs but not significantly different especially among the highest performing plaforms as average sales are all below USD 1.00 million.\n",
    "PS4 has the highest average sales of about USD 0.80 million, and GBA having about USD 0.05 million sales."
   ]
  },
  {
   "cell_type": "markdown",
   "metadata": {},
   "source": [
    "**Considering how user and professional reviews affect sales for one popular platform**\n",
    "\n",
    "I will choose PS3 as in sum total, it is leading in sales. \n",
    "I will build scatter plots and calculate the correlation between user and professional reviews, and sales."
   ]
  },
  {
   "cell_type": "code",
   "execution_count": 49,
   "metadata": {},
   "outputs": [
    {
     "data": {
      "image/png": "[encoded data removed]",
      "text/plain": [
       "<Figure size 576x432 with 1 Axes>"
      ]
     },
     "metadata": {
      "needs_background": "light"
     },
     "output_type": "display_data"
    },
    {
     "data": {
      "image/png": "[encoded data removed]",
      "text/plain": [
       "<Figure size 576x432 with 1 Axes>"
      ]
     },
     "metadata": {
      "needs_background": "light"
     },
     "output_type": "display_data"
    }
   ],
   "source": [
    "ps3= relevant_data[relevant_data[\"platform\"]==\"PS3\"]\n",
    "for_scatter = [\"user_score\",\"critic_score\"]\n",
    "for i in for_scatter:\n",
    "    fig, ax = plt.subplots(figsize=(8,6))\n",
    "    ps3.plot(y=\"total_sales\", x= i, color=\"teal\", kind=\"scatter\", alpha=1,ax=ax)\n",
    "    ax.set_title(\"Scatter Plot of Reviews and Sales\", fontdict={\"size\":14})\n",
    "    plt.xlabel(i, fontdict={\"size\":14})\n",
    "    plt.ylabel(\"Total sales\", fontdict={\"size\":14})\n",
    "    plt.show()"
   ]
  },
  {
   "cell_type": "markdown",
   "metadata": {},
   "source": [
    "**A correlation between sales, and user and professional reviews implies correlation between categorical and continuous (quantitative) variables. Hence, I will use the point biserial correlation.** "
   ]
  },
  {
   "cell_type": "code",
   "execution_count": 50,
   "metadata": {},
   "outputs": [
    {
     "name": "stdout",
     "output_type": "stream",
     "text": [
      "Correlation between total sales and user score: PointbiserialrResult(correlation=0.0637148886040583, pvalue=0.14410302916079762)\n",
      "\n",
      "Correlation between total sales and critic score: PointbiserialrResult(correlation=0.3731262398917231, pvalue=7.475065387306873e-19)\n"
     ]
    }
   ],
   "source": [
    "ps3=ps3.query('user_score!= \"nan\" & critic_score!= \"nan\"') # filtering out 'NaNs' to make calculations possible\n",
    "print(\"Correlation between total sales and user score: {}\".format(st.pointbiserialr(ps3[\"total_sales\"],ps3[\"user_score\"])))\n",
    "print()\n",
    "print(\"Correlation between total sales and critic score: {}\".format(st.pointbiserialr(ps3[\"total_sales\"],ps3[\"critic_score\"])))"
   ]
  },
  {
   "cell_type": "markdown",
   "metadata": {},
   "source": [
    "The scatter plots and the biserial correlation show there are positive correlations between sales of PS3 platform and reviews. The pvalue shows that the correlation between  total sales and professional reviews is statistically significant. Thus, higher professional reviews usually correspond with more sales. User reviews have a positive but insignificant correlation with sales of the PS3 platform. "
   ]
  },
  {
   "cell_type": "markdown",
   "metadata": {},
   "source": [
    "**Comparing the sales of the same games on other platforms**\n",
    "\n",
    "I will consider platforms such as x360, XOne, and PS4."
   ]
  },
  {
   "cell_type": "code",
   "execution_count": 51,
   "metadata": {
    "scrolled": false
   },
   "outputs": [
    {
     "name": "stdout",
     "output_type": "stream",
     "text": [
      "Correlation between total sales and user score: PointbiserialrResult(correlation=0.052595905105095986, pvalue=0.2500984479712616)\n",
      "\n",
      "Correlation between total sales and critic score: PointbiserialrResult(correlation=0.3258352392928062, pvalue=2.464791902407965e-13)\n"
     ]
    }
   ],
   "source": [
    "other_platforms=relevant_data.query('platform != \"PS3\"')\n",
    "other_platforms= other_platforms[[\"platform\",\"total_sales\",\"user_score\",\"critic_score\"]]\n",
    "x360= other_platforms[other_platforms[\"platform\"]=='X360']\n",
    "x360=x360.query('user_score!= \"nan\" & critic_score!= \"nan\"') # filtering out 'NaNs' to make calculations possible \n",
    "print(\"Correlation between total sales and user score: {}\".format(st.pointbiserialr(x360[\"total_sales\"],x360[\"user_score\"])))\n",
    "print()\n",
    "print(\"Correlation between total sales and critic score: {}\".format(st.pointbiserialr(x360[\"total_sales\"],x360[\"critic_score\"])))"
   ]
  },
  {
   "cell_type": "code",
   "execution_count": 52,
   "metadata": {},
   "outputs": [
    {
     "name": "stdout",
     "output_type": "stream",
     "text": [
      "Correlation between total sales and user score: PointbiserialrResult(correlation=-0.019211511142128868, pvalue=0.7919418637862915)\n",
      "\n",
      "Correlation between total sales and critic score: PointbiserialrResult(correlation=0.36757054231294506, pvalue=1.687237002964629e-07)\n"
     ]
    }
   ],
   "source": [
    "xone= other_platforms[other_platforms[\"platform\"]=='XOne']\n",
    "xone=xone.query('user_score!= \"nan\" & critic_score!= \"nan\"') # filtering out 'NaNs' to make calculations possible\n",
    "print(\"Correlation between total sales and user score: {}\".format(st.pointbiserialr(xone[\"total_sales\"],xone[\"user_score\"])))\n",
    "print()\n",
    "print(\"Correlation between total sales and critic score: {}\".format(st.pointbiserialr(xone[\"total_sales\"],xone[\"critic_score\"])))"
   ]
  },
  {
   "cell_type": "code",
   "execution_count": 53,
   "metadata": {},
   "outputs": [
    {
     "name": "stdout",
     "output_type": "stream",
     "text": [
      "Correlation between total sales and user score: PointbiserialrResult(correlation=0.009338476583563515, pvalue=0.8757133276472665)\n",
      "\n",
      "Correlation between total sales and critic score: PointbiserialrResult(correlation=0.3814081131814896, pvalue=3.1243024127531994e-11)\n"
     ]
    }
   ],
   "source": [
    "ps4= other_platforms[other_platforms[\"platform\"]=='PS4']\n",
    "ps4=ps4.query('user_score!= \"nan\" & critic_score!= \"nan\"')\n",
    "print(\"Correlation between total sales and user score: {}\".format(st.pointbiserialr(ps4[\"total_sales\"],ps4[\"user_score\"])))\n",
    "print()\n",
    "print(\"Correlation between total sales and critic score: {}\".format(st.pointbiserialr(ps4[\"total_sales\"],ps4[\"critic_score\"])))"
   ]
  },
  {
   "cell_type": "markdown",
   "metadata": {},
   "source": [
    "The outputs from the additional platforms selected compared to the chosing one (PS3) indicate there are positive and statistically significant relationships (correlation) between professional reviews of plaforms and sale of games' platforms while there are positive and statistically insignificant correlation between user reviews of plaforms and sale of games' platforms. This is because professional reviews are done before a platform is released so it relates highly with the customers' decision (first impression). However, the user reviews are only done after platforms are already selling in the market. It has a relationship with future sales but based on the pvalues, the relationship is not statistically significant."
   ]
  },
  {
   "cell_type": "markdown",
   "metadata": {
    "scrolled": true
   },
   "source": [
    "**Considering the general distribution of games by genre.** "
   ]
  },
  {
   "cell_type": "code",
   "execution_count": 54,
   "metadata": {},
   "outputs": [
    {
     "data": {
      "image/png": "[encoded data removed]",
      "text/plain": [
       "<Figure size 864x432 with 1 Axes>"
      ]
     },
     "metadata": {
      "needs_background": "light"
     },
     "output_type": "display_data"
    }
   ],
   "source": [
    "fig, ax = plt.subplots()\n",
    "fig.set_size_inches(12,6)\n",
    "games_by_genre = relevant_data.pivot_table(index = \"genre\", values = \"total_sales\", aggfunc=\"sum\")\n",
    "\n",
    "sns.barplot(x=games_by_genre.index, y=\"total_sales\", data=games_by_genre,  capsize=10)\n",
    "ax.set_title(\"Games by Genre\", fontdict={\"size\":14})\n",
    "plt.ylabel(\"Total Sales\", fontdict={\"size\":14})\n",
    "plt.xlabel(\"Genre\", fontdict={\"size\":14})\n",
    "plt.show()"
   ]
  },
  {
   "cell_type": "markdown",
   "metadata": {},
   "source": [
    "Generally, action genres are the most profitable (about USD 700.00 million). This is followed by shooter , sports, role-playing, and Misc genre. Low profitable genres are Puzzle, Adventure, and Strategy. The least profitable game genre is Puzzle."
   ]
  },
  {
   "cell_type": "markdown",
   "metadata": {},
   "source": [
    "Investigating profitable genres based on averages"
   ]
  },
  {
   "cell_type": "code",
   "execution_count": 55,
   "metadata": {},
   "outputs": [
    {
     "data": {
      "image/png": "[encoded data removed]",
      "text/plain": [
       "<Figure size 864x432 with 1 Axes>"
      ]
     },
     "metadata": {
      "needs_background": "light"
     },
     "output_type": "display_data"
    }
   ],
   "source": [
    "fig, ax = plt.subplots()\n",
    "fig.set_size_inches(12,6)\n",
    "games_by_genre = relevant_data.pivot_table(index = \"genre\", values = \"total_sales\")\n",
    "sns.barplot(x=games_by_genre.index, y=\"total_sales\", data=games_by_genre, ax=ax, capsize=10)\n",
    "ax.set_title(\"Games by Genre (Averages)\", fontdict={\"size\":14})\n",
    "plt.ylabel(\"Average Sales\", fontdict={\"size\":14})\n",
    "plt.xlabel(\"Genre\", fontdict={\"size\":14})\n",
    "plt.show()"
   ]
  },
  {
   "cell_type": "markdown",
   "metadata": {},
   "source": [
    "On average, the most profitable genre is Shooter. Action, sports,role-playing, and Misc is still among the highly profitable genres on average. The low profitable genres on average are Adventure, Puzzle, and Strategy. \n",
    "These means that, in general, Shooter, Action, sports, Role-playing, and Misc genres are more profitable while \n",
    "Adventure, Puzzle, and Strategy are least profitable genres."
   ]
  },
  {
   "cell_type": "markdown",
   "metadata": {},
   "source": [
    "## Step 4. Create a user profile for each region"
   ]
  },
  {
   "cell_type": "markdown",
   "metadata": {},
   "source": [
    "**Determining top five platforms', and genres' market share for each region (NA, EU, JP).**\n",
    "\n",
    "**Top five platforms.**"
   ]
  },
  {
   "cell_type": "code",
   "execution_count": 56,
   "metadata": {},
   "outputs": [
    {
     "data": {
      "image/png": "[encoded data removed]",
      "text/plain": [
       "<Figure size 576x432 with 1 Axes>"
      ]
     },
     "metadata": {
      "needs_background": "light"
     },
     "output_type": "display_data"
    }
   ],
   "source": [
    "platform_na = relevant_data.pivot_table(index = \"platform\", values=\"na_sales\", aggfunc=\"sum\")\\\n",
    ".sort_values(by=\"na_sales\", ascending=False)[:5]\n",
    "fig, ax = plt.subplots()\n",
    "fig.set_size_inches(8,6)\n",
    "sns.barplot(x=platform_na.index, y=\"na_sales\", data=platform_na, ax=ax, capsize=10)\n",
    "ax.set_title(\"Top Five Platforms in North America\", fontdict={\"size\":14})\n",
    "plt.ylabel(\"Total Sales\", fontdict={\"size\":14})\n",
    "plt.xlabel(\"Platform\", fontdict={\"size\":14})\n",
    "plt.show()"
   ]
  },
  {
   "cell_type": "markdown",
   "metadata": {},
   "source": [
    "X360 platform is leading in sales in North America. This is followed by PS3."
   ]
  },
  {
   "cell_type": "code",
   "execution_count": 57,
   "metadata": {},
   "outputs": [
    {
     "data": {
      "image/png": "[encoded data removed]",
      "text/plain": [
       "<Figure size 576x432 with 1 Axes>"
      ]
     },
     "metadata": {
      "needs_background": "light"
     },
     "output_type": "display_data"
    }
   ],
   "source": [
    "platform_eu = relevant_data.pivot_table(index = \"platform\", values=\"eu_sales\", aggfunc=\"sum\")\\\n",
    ".sort_values(by=\"eu_sales\", ascending=False)[:5]\n",
    "fig, ax = plt.subplots()\n",
    "fig.set_size_inches(8,6)\n",
    "sns.barplot(x=platform_eu.index, y=\"eu_sales\", data=platform_eu, ax=ax, capsize=10)\n",
    "ax.set_title(\"Top Five Platforms in Europe\", fontdict={\"size\":14})\n",
    "plt.ylabel(\"Total Sales\", fontdict={\"size\":14})\n",
    "plt.xlabel(\"Platform\", fontdict={\"size\":14})\n",
    "plt.show()"
   ]
  },
  {
   "cell_type": "markdown",
   "metadata": {},
   "source": [
    "PS3 platform is leading in sales in Europe. This is followed by X360 platform. This implies, PS3 and X360 platforms dominate sales in Europe and North American markets."
   ]
  },
  {
   "cell_type": "code",
   "execution_count": 58,
   "metadata": {},
   "outputs": [
    {
     "data": {
      "image/png": "[encoded data removed]",
      "text/plain": [
       "<Figure size 576x432 with 1 Axes>"
      ]
     },
     "metadata": {
      "needs_background": "light"
     },
     "output_type": "display_data"
    }
   ],
   "source": [
    "platform_jp = relevant_data.pivot_table(index = \"platform\", values=\"jp_sales\", aggfunc=\"sum\")\\\n",
    ".sort_values(by=\"jp_sales\", ascending=False)[:5]\n",
    "fig, ax = plt.subplots()\n",
    "fig.set_size_inches(8,6)\n",
    "sns.barplot(x=platform_jp.index, y=\"jp_sales\", data=platform_jp, ax=ax, capsize=10)\n",
    "ax.set_title(\"Top Five Platforms in Japan\", fontdict={\"size\":14})\n",
    "plt.ylabel(\"Total Sales\", fontdict={\"size\":14})\n",
    "plt.xlabel(\"Platform\", fontdict={\"size\":14})\n",
    "plt.show()"
   ]
  },
  {
   "cell_type": "markdown",
   "metadata": {},
   "source": [
    "Nintendo 3DS platform is leading in sales in Japan. This is followed by PS3 platform. This implies, PS3 is at least\n",
    "among top two dominating market shares across all three regions."
   ]
  },
  {
   "cell_type": "markdown",
   "metadata": {},
   "source": [
    "**The top five genres.**"
   ]
  },
  {
   "cell_type": "code",
   "execution_count": 59,
   "metadata": {},
   "outputs": [
    {
     "data": {
      "image/png": "[encoded data removed]",
      "text/plain": [
       "<Figure size 576x432 with 1 Axes>"
      ]
     },
     "metadata": {
      "needs_background": "light"
     },
     "output_type": "display_data"
    }
   ],
   "source": [
    "platform_na = relevant_data.pivot_table(index = \"genre\", values=\"na_sales\", aggfunc=\"sum\")\\\n",
    ".sort_values(by=\"na_sales\", ascending=False)[:5]\n",
    "fig, ax = plt.subplots()\n",
    "fig.set_size_inches(8,6)\n",
    "sns.barplot(x=platform_na.index, y=\"na_sales\", data=platform_na, ax=ax, capsize=10)\n",
    "ax.set_title(\"Top Five Genres in North America\", fontdict={\"size\":14})\n",
    "plt.ylabel(\"Total Sales\", fontdict={\"size\":14})\n",
    "plt.xlabel(\"Genre\", fontdict={\"size\":14})\n",
    "plt.show()"
   ]
  },
  {
   "cell_type": "code",
   "execution_count": 60,
   "metadata": {},
   "outputs": [
    {
     "data": {
      "image/png": "[encoded data removed]",
      "text/plain": [
       "<Figure size 576x432 with 1 Axes>"
      ]
     },
     "metadata": {
      "needs_background": "light"
     },
     "output_type": "display_data"
    }
   ],
   "source": [
    "platform_eu = relevant_data.pivot_table(index = \"genre\", values=\"eu_sales\", aggfunc=\"sum\")\\\n",
    ".sort_values(by=\"eu_sales\", ascending=False)[:5]\n",
    "fig, ax = plt.subplots()\n",
    "fig.set_size_inches(8,6)\n",
    "sns.barplot(x=platform_eu.index, y=\"eu_sales\", data=platform_eu, ax=ax, capsize=10)\n",
    "ax.set_title(\"Top Five Genres in Europe\", fontdict={\"size\":14})\n",
    "plt.ylabel(\"Total Sales\", fontdict={\"size\":14})\n",
    "plt.xlabel(\"Genre\", fontdict={\"size\":14})\n",
    "plt.show()"
   ]
  },
  {
   "cell_type": "code",
   "execution_count": 61,
   "metadata": {},
   "outputs": [
    {
     "data": {
      "image/png": "[encoded data removed]",
      "text/plain": [
       "<Figure size 576x432 with 1 Axes>"
      ]
     },
     "metadata": {
      "needs_background": "light"
     },
     "output_type": "display_data"
    }
   ],
   "source": [
    "platform_jp = relevant_data.pivot_table(index = \"genre\", values=\"jp_sales\", aggfunc=\"sum\")\\\n",
    ".sort_values(by=\"jp_sales\", ascending=False)[:5]\n",
    "fig, ax = plt.subplots()\n",
    "fig.set_size_inches(8,6)\n",
    "sns.barplot(x=platform_jp.index, y=\"jp_sales\", data=platform_jp, ax=ax, capsize=10)\n",
    "ax.set_title(\"Top Five Genres in Japan\", fontdict={\"size\":14})\n",
    "plt.ylabel(\"Total Sales\", fontdict={\"size\":14})\n",
    "plt.xlabel(\"Genre\", fontdict={\"size\":14})\n",
    "plt.show()"
   ]
  },
  {
   "cell_type": "markdown",
   "metadata": {},
   "source": [
    "Action and Shooter genres are dominating the market share of sales in Europe and North America.\n",
    "Role_Playing and Action are dominating the market share of sales in Japan. The means Action genre is at least among the top two dominating Genres across the three regions."
   ]
  },
  {
   "cell_type": "markdown",
   "metadata": {},
   "source": [
    "**Do ESRB ratings affect sales in individual regions?**"
   ]
  },
  {
   "cell_type": "code",
   "execution_count": 62,
   "metadata": {},
   "outputs": [
    {
     "data": {
      "image/png": "[encoded data removed]",
      "text/plain": [
       "<Figure size 576x432 with 1 Axes>"
      ]
     },
     "metadata": {
      "needs_background": "light"
     },
     "output_type": "display_data"
    }
   ],
   "source": [
    "platform_na = relevant_data.pivot_table(index = \"rating\", values=\"na_sales\")\\\n",
    ".sort_values(by=\"na_sales\", ascending=False)\n",
    "fig, ax = plt.subplots()\n",
    "fig.set_size_inches(8,6)\n",
    "sns.barplot(x=platform_na.index, y=\"na_sales\", data=platform_na, ax=ax, capsize=10)\n",
    "ax.set_title(\"ESRB Ratings and Sales in North America\", fontdict={\"size\":14})\n",
    "plt.ylabel(\"Average Sales\", fontdict={\"size\":14})\n",
    "plt.xlabel(\"Rating\", fontdict={\"size\":14})\n",
    "plt.show()"
   ]
  },
  {
   "cell_type": "code",
   "execution_count": 63,
   "metadata": {},
   "outputs": [
    {
     "data": {
      "image/png": "[encoded data removed]",
      "text/plain": [
       "<Figure size 576x432 with 1 Axes>"
      ]
     },
     "metadata": {
      "needs_background": "light"
     },
     "output_type": "display_data"
    }
   ],
   "source": [
    "platform_eu = relevant_data.pivot_table(index = \"rating\", values=\"eu_sales\")\\\n",
    ".sort_values(by=\"eu_sales\", ascending=False)\n",
    "fig, ax = plt.subplots()\n",
    "fig.set_size_inches(8,6)\n",
    "sns.barplot(x=platform_eu.index, y=\"eu_sales\", data=platform_eu, ax=ax, capsize=10)\n",
    "ax.set_title(\"ESRB Ratings and Sales in Europe\", fontdict={\"size\":14})\n",
    "plt.ylabel(\"Average Sales\", fontdict={\"size\":14})\n",
    "plt.xlabel(\"Rating\", fontdict={\"size\":14})\n",
    "plt.show()"
   ]
  },
  {
   "cell_type": "code",
   "execution_count": 64,
   "metadata": {},
   "outputs": [
    {
     "data": {
      "image/png": "[encoded data removed]",
      "text/plain": [
       "<Figure size 576x432 with 1 Axes>"
      ]
     },
     "metadata": {
      "needs_background": "light"
     },
     "output_type": "display_data"
    }
   ],
   "source": [
    "platform_jp = relevant_data.pivot_table(index = \"rating\", values=\"jp_sales\")\\\n",
    ".sort_values(by=\"jp_sales\", ascending=False)\n",
    "fig, ax = plt.subplots()\n",
    "fig.set_size_inches(8,6)\n",
    "sns.barplot(x=platform_jp.index, y=\"jp_sales\", data=platform_jp, ax=ax, capsize=10)\n",
    "ax.set_title(\"ESRB Ratings and Sales in Japan\", fontdict={\"size\":14})\n",
    "plt.ylabel(\"Average Sales\", fontdict={\"size\":14})\n",
    "plt.xlabel(\"Rating\", fontdict={\"size\":14})\n",
    "plt.show()"
   ]
  },
  {
   "cell_type": "markdown",
   "metadata": {},
   "source": [
    "ESRB ratings affect sales in individual regions. On average, in Europe and North America, `Mature` rating corresponds the most to games sales compared to other ratings. On average, games rated `EC`, `AO`, and `RP` are the least selling in Europe and North America.\n",
    "In Japan, on average, ESRB rating \"Everyone\" sells the most games. `AO`, `EC`, `RP` ratings like in other regions, sells the least. On average, `Mature` and `Everyone` ratings are among the top three dominating ESRB rating across the three regions."
   ]
  },
  {
   "cell_type": "markdown",
   "metadata": {},
   "source": [
    "## Step 5. Testing hypotheses"
   ]
  },
  {
   "cell_type": "markdown",
   "metadata": {},
   "source": [
    "### Hypothesis test 1\n",
    "\n",
    "H0: Average user ratings of the Xbox One and PC platforms are the same.\n",
    "\n",
    "H1: Average user ratings of the Xbox One and PC platforms are different.\n",
    "\n",
    "The initial claim was that average user ratings of the Xbox One and PC platforms are the same. This is a null hypothetical claim since equalitly is assumed. I therefore, used this statement as \"H0\" and the opposing statement as the alternative hypothesis (H1). There are other significant levels such as 1% and 10% but the most used is alpha = 5%. Hence,I will choose my alpha value to be 0.05 in both hypotheses."
   ]
  },
  {
   "cell_type": "code",
   "execution_count": 65,
   "metadata": {},
   "outputs": [
    {
     "name": "stdout",
     "output_type": "stream",
     "text": [
      "Variance:\n",
      "xone Platform =  3.0\n",
      "PC platform = 4.0\n",
      "\n",
      "p-value: 0.9064\n",
      "We can't reject the null hypothesis\n"
     ]
    }
   ],
   "source": [
    "xone_platform= relevant_data.query('platform==\"XOne\"')\n",
    "xone_platform=xone_platform.query('user_score!= \"nan\"') \n",
    "pc_platform= relevant_data.query('platform==\"PC\"')\n",
    "pc_platform=pc_platform.query('user_score!= \"nan\"') \n",
    "\n",
    "print(\"Variance:\")\n",
    "print(\"xone Platform = \",round(np.var(xone_platform[\"user_score\"]),0))\n",
    "print(\"PC platform =\",round(np.var(pc_platform[\"user_score\"]),0))\n",
    "print()\n",
    "\n",
    "alpha = .05 \n",
    "results = st.ttest_ind(xone_platform[\"user_score\"], pc_platform[\"user_score\"],equal_var=False)\n",
    "\n",
    "print('p-value: {:.4f}'.format(results.pvalue))\n",
    "\n",
    "\n",
    "if (results.pvalue < alpha):\n",
    "        print(\"We reject the null hypothesis\")\n",
    "else:\n",
    "        print(\"We can't reject the null hypothesis\")"
   ]
  },
  {
   "cell_type": "markdown",
   "metadata": {},
   "source": [
    "The result gives evidence to support the claim that the average user ratings of the Xbox One and PC platforms are the same."
   ]
  },
  {
   "cell_type": "markdown",
   "metadata": {},
   "source": [
    "### Hypothesis test 2\n",
    "\n",
    "H0: Average user ratings for the Action and Sports genres are the same.\n",
    "\n",
    "H1: Average user ratings for the Action and Sports genres are different.\n",
    "    \n",
    "The initial claim was that average user ratings for the Action and Sports genres are different. This claim does not assume equality. Therefore, it is an alternative hypothetical claim. So I used it as H1, and the reverse statement as the H0."
   ]
  },
  {
   "cell_type": "code",
   "execution_count": 66,
   "metadata": {},
   "outputs": [
    {
     "name": "stdout",
     "output_type": "stream",
     "text": [
      "Variance:\n",
      "Action Genre =  7.0\n",
      "Sports Genre = 6.0\n",
      "\n",
      "p-value: 0.0015\n",
      "We reject the null hypothesis\n"
     ]
    }
   ],
   "source": [
    "action= relevant_data.query('genre==\"Action\"')\n",
    "action=action.query('user_score!= \"nan\"')\n",
    "sports= relevant_data.query('genre==\"Sports\"')\n",
    "sports=sports.query('user_score!= \"nan\"')\n",
    "\n",
    "print(\"Variance:\")\n",
    "print(\"Action Genre = \",round(np.var(action[\"user_score\"]),0))\n",
    "print(\"Sports Genre =\",round(np.var(sports[\"user_score\"]),0))\n",
    "print()\n",
    "\n",
    "alpha = .05 \n",
    "results = st.ttest_ind(action[\"user_score\"], sports[\"user_score\"])\n",
    "\n",
    "print('p-value: {:.4f}'.format(results.pvalue))\n",
    "\n",
    "\n",
    "if (results.pvalue < alpha):\n",
    "        print(\"We reject the null hypothesis\")\n",
    "else:\n",
    "        print(\"We can't reject the null hypothesis\")"
   ]
  },
  {
   "cell_type": "markdown",
   "metadata": {},
   "source": [
    "There result gives enough evidence to support the claim that average user ratings for the Action and Sports genres are different."
   ]
  },
  {
   "cell_type": "markdown",
   "metadata": {},
   "source": [
    "## Step 6. General conclusion"
   ]
  },
  {
   "cell_type": "markdown",
   "metadata": {},
   "source": [
    "- Before 1994, there was no year that more than 100 games were released. However, from 1994 to 2016, more than 100 games have been released every year. \n",
    "- PS, PS2, and Nintendo DS used to be popular platforms but now have zero sales.\n",
    "- Generally, it takes about a year or less for new platforms to appear. On average, old plaforms take about 8 years to fade.\n",
    "- Atari 2600 platform existed for the longest number of years (35 years)\n",
    "- Since 2010, the most profitable platforms are 'PS3', '3DS', 'DS', 'PC', 'PS4', 'Wii', 'X360', and 'XOne'. In sum total, 'PS3' and 'X360' are leading in sales.\n",
    "- In 2016, all plaforms had experienced their peak sales and started shrinking, but PS4, XOne, and 3DS were leading in sales.\n",
    "- Since 2010, average sales on various platforms differed but not significantly different especially among the highest performing plaforms as average sales were all below USD 1.00 million. PS4 had the highest average sales of about USD 0.80 million, and GBA platform had about USD 0.05 million sales (the lowest).\n",
    "- There is positive correlation between review of plaforms and sale of games.\n",
    "- Generally, from 2010, Action genres have been the most profitable considering sum of total yearly sales. However,on average, the most profitable genre is Shooter. The least profitable game genre is Puzzle.\n",
    "- PS3 and X360 platforms dominate sales in Europe and North American markets.\n",
    "- Nintendo 3DS and PS3 dominates market share in Japan.  \n",
    "- PS3 platform is at least among top two dominant market share of games across Europe, North America, and Japan.\n",
    "- Action and Shooter genres are dominating the market share of sales in Europe and North America while Role_Playing and Action dominates in Japan. \n",
    "- Action genre is at least among the top two dominating genres across the three regions.\n",
    "- ESRB ratings affect sales in individual regions.\n",
    "- Average user ratings of the Xbox One and PC platforms are the same.\n",
    "- Average user ratings for Action and Sports genres are different."
   ]
  },
  {
   "cell_type": "code",
   "execution_count": null,
   "metadata": {},
   "outputs": [],
   "source": []
  }
 ],
 "metadata": {
  "kernelspec": {
   "display_name": "Python 3",
   "language": "python",
   "name": "python3"
  },
  "language_info": {
   "codemirror_mode": {
    "name": "ipython",
    "version": 3
   },
   "file_extension": ".py",
   "mimetype": "text/x-python",
   "name": "python",
   "nbconvert_exporter": "python",
   "pygments_lexer": "ipython3",
   "version": "3.7.6"
  },
  "toc": {
   "base_numbering": 1,
   "nav_menu": {},
   "number_sections": false,
   "sideBar": true,
   "skip_h1_title": true,
   "title_cell": "Table of Contents",
   "title_sidebar": "Contents",
   "toc_cell": true,
   "toc_position": {
    "height": "calc(100% - 180px)",
    "left": "10px",
    "top": "150px",
    "width": "218.188px"
   },
   "toc_section_display": true,
   "toc_window_display": true
  }
 },
 "nbformat": 4,
 "nbformat_minor": 4
}
